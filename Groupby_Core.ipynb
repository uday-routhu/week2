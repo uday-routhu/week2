{
  "nbformat": 4,
  "nbformat_minor": 0,
  "metadata": {
    "colab": {
      "provenance": [],
      "authorship_tag": "ABX9TyNqxOgttEK7rVDPum/bNZui",
      "include_colab_link": true
    },
    "kernelspec": {
      "name": "python3",
      "display_name": "Python 3"
    },
    "language_info": {
      "name": "python"
    }
  },
  "cells": [
    {
      "cell_type": "markdown",
      "metadata": {
        "id": "view-in-github",
        "colab_type": "text"
      },
      "source": [
        "<a href=\"https://colab.research.google.com/github/uday-routhu/week2/blob/master/Groupby_Core.ipynb\" target=\"_parent\"><img src=\"https://colab.research.google.com/assets/colab-badge.svg\" alt=\"Open In Colab\"/></a>"
      ]
    },
    {
      "cell_type": "code",
      "execution_count": 2,
      "metadata": {
        "id": "BIswDUCAG95p"
      },
      "outputs": [],
      "source": [
        "#Groupby Core"
      ]
    },
    {
      "cell_type": "code",
      "source": [
        "  # Author: udayakumar Routhu"
      ],
      "metadata": {
        "id": "kVFFX_dAHetk"
      },
      "execution_count": 3,
      "outputs": []
    },
    {
      "cell_type": "code",
      "source": [
        "from google.colab import drive\n",
        "drive.mount('/content/drive')"
      ],
      "metadata": {
        "colab": {
          "base_uri": "https://localhost:8080/"
        },
        "id": "qPaIycVNHtDj",
        "outputId": "e7128268-638d-4dfd-a4a1-08982c3aec06"
      },
      "execution_count": 4,
      "outputs": [
        {
          "output_type": "stream",
          "name": "stdout",
          "text": [
            "Mounted at /content/drive\n"
          ]
        }
      ]
    },
    {
      "cell_type": "code",
      "source": [
        "fpath='/content/drive/MyDrive/CodingDojo/01-Fundamentals/Week02/Data/insurance_mod.csv'"
      ],
      "metadata": {
        "id": "Wo4_Zkl2ILWO"
      },
      "execution_count": 5,
      "outputs": []
    },
    {
      "cell_type": "code",
      "source": [
        "import pandas as pd\n",
        "df_insurance = pd.read_csv(fpath)"
      ],
      "metadata": {
        "id": "aBsegJl3IWRs"
      },
      "execution_count": 33,
      "outputs": []
    },
    {
      "cell_type": "code",
      "source": [
        "#average age for the entire data set\n",
        "df_age=df_insurance['age']\n",
        "import numpy as np\n",
        "np.median(df_age)"
      ],
      "metadata": {
        "colab": {
          "base_uri": "https://localhost:8080/"
        },
        "id": "hRP2WqcEIx_M",
        "outputId": "ce754af2-2ee3-49bb-b25d-9569e0a91864"
      },
      "execution_count": 38,
      "outputs": [
        {
          "output_type": "execute_result",
          "data": {
            "text/plain": [
              "39.0"
            ]
          },
          "metadata": {},
          "execution_count": 38
        }
      ]
    },
    {
      "cell_type": "code",
      "source": [
        "#What is the age of the oldest person in the entire data set (the maximum age)?\n",
        "max_age=np.max(df_age)\n",
        "print(max_age)"
      ],
      "metadata": {
        "colab": {
          "base_uri": "https://localhost:8080/"
        },
        "id": "7e1kijWtJlBp",
        "outputId": "808717f7-fa32-41fc-f751-ba95dfb5d4db"
      },
      "execution_count": 39,
      "outputs": [
        {
          "output_type": "stream",
          "name": "stdout",
          "text": [
            "64\n"
          ]
        }
      ]
    },
    {
      "cell_type": "code",
      "source": [
        "#What is the age of the youngest person in the entire data set (the minimum age)?"
      ],
      "metadata": {
        "id": "qRFN7JL0LaaL"
      },
      "execution_count": null,
      "outputs": []
    }
  ]
}