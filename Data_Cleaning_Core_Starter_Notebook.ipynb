{
  "nbformat": 4,
  "nbformat_minor": 0,
  "metadata": {
    "colab": {
      "provenance": [],
      "include_colab_link": true
    },
    "kernelspec": {
      "name": "python3",
      "display_name": "Python 3"
    },
    "language_info": {
      "name": "python"
    }
  },
  "cells": [
    {
      "cell_type": "markdown",
      "metadata": {
        "id": "view-in-github",
        "colab_type": "text"
      },
      "source": [
        "<a href=\"https://colab.research.google.com/github/uday-routhu/week2/blob/master/Data_Cleaning_Core_Starter_Notebook.ipynb\" target=\"_parent\"><img src=\"https://colab.research.google.com/assets/colab-badge.svg\" alt=\"Open In Colab\"/></a>"
      ]
    },
    {
      "cell_type": "markdown",
      "source": [
        "# Data Cleaning Core\n",
        "\n"
      ],
      "metadata": {
        "id": "OO_lHblPMbz5"
      }
    },
    {
      "cell_type": "code",
      "source": [
        "from google.colab import drive\n",
        "drive.mount('/content/drive')"
      ],
      "metadata": {
        "colab": {
          "base_uri": "https://localhost:8080/"
        },
        "id": "m7T2I5dkyfju",
        "outputId": "0f67ea72-3225-4a13-c279-ab62cb2d64f8"
      },
      "execution_count": 83,
      "outputs": [
        {
          "output_type": "stream",
          "name": "stdout",
          "text": [
            "Drive already mounted at /content/drive; to attempt to forcibly remount, call drive.mount(\"/content/drive\", force_remount=True).\n"
          ]
        }
      ]
    },
    {
      "cell_type": "markdown",
      "source": [
        "- Student Name: Udayakumar Routhu"
      ],
      "metadata": {
        "id": "vN3u6cWVFYUC"
      }
    },
    {
      "cell_type": "markdown",
      "source": [
        "## The Data"
      ],
      "metadata": {
        "id": "juh5JMRRHLe_"
      }
    },
    {
      "cell_type": "markdown",
      "source": [
        "You will be working with a modified version of the Titanitc dataset:\n",
        "\n",
        "- [(Modified) Titanic Data](https://drive.google.com/file/d/1Uw7RzQMYSARCFnzJQqqNlZpUouXr16-8/view?usp=sharing)\n",
        "\n",
        "- [Data Dictionary](https://docs.google.com/document/d/1uEeANvKURYmu-HUDGzbGlMmvAUwooatUg-gHUCDMh-Y/edit?usp=sharing)\n",
        "\n",
        "___\n",
        "\n",
        "- Save the files to your Course 1 > Week 2 > Data Folder.\n"
      ],
      "metadata": {
        "id": "WjZIviC2A_eM"
      }
    },
    {
      "cell_type": "markdown",
      "source": [
        "## A) Load and Preview Data"
      ],
      "metadata": {
        "id": "CTVmUXVnoGp0"
      }
    },
    {
      "cell_type": "markdown",
      "source": [
        "\n",
        "- Mount google drive and navigate to the file on the Files sidebar.\n"
      ],
      "metadata": {
        "id": "_r1kaxkquGFU"
      }
    },
    {
      "cell_type": "code",
      "source": [
        "# Mount google drive\n",
        "from google.colab import drive\n",
        "drive.mount('/content/drive')"
      ],
      "metadata": {
        "id": "mtAndE63WYJp",
        "outputId": "55a120ba-f435-4c3e-ec3f-98827880bac4",
        "colab": {
          "base_uri": "https://localhost:8080/"
        }
      },
      "execution_count": 84,
      "outputs": [
        {
          "output_type": "stream",
          "name": "stdout",
          "text": [
            "Drive already mounted at /content/drive; to attempt to forcibly remount, call drive.mount(\"/content/drive\", force_remount=True).\n"
          ]
        }
      ]
    },
    {
      "cell_type": "markdown",
      "source": [
        "\n",
        "- Navigate to the file on the Files side bar and copy the path\n",
        "- Paste it below and save it as a variable called \"fpath\""
      ],
      "metadata": {
        "id": "OrukOB_cuHfG"
      }
    },
    {
      "cell_type": "code",
      "execution_count": 123,
      "metadata": {
        "id": "mU3JiRzBMS_j"
      },
      "outputs": [],
      "source": [
        "# Import required packages\n",
        "import pandas as pd\n",
        "# Save the filepath and load the data as \"df_titanic\"\n",
        "fpath='/content/drive/MyDrive/CodingDojo/01-Fundamentals/Week02/Data/titanic_dirty.csv'\n",
        "df_titanic = pd.read_csv(fpath)"
      ]
    },
    {
      "cell_type": "code",
      "source": [
        "# Display the first 5 rows\n",
        "df_titanic.head()"
      ],
      "metadata": {
        "id": "alCcMYM_3FUJ",
        "colab": {
          "base_uri": "https://localhost:8080/",
          "height": 206
        },
        "outputId": "73c23847-f09b-4304-cd02-5b3f47210973"
      },
      "execution_count": 124,
      "outputs": [
        {
          "output_type": "execute_result",
          "data": {
            "text/plain": [
              "   Unnamed: 0  PassengerId  Survived  Pclass  \\\n",
              "0           0            1         0       3   \n",
              "1           1            2         1       1   \n",
              "2           2            3         1       3   \n",
              "3           3            4         1       1   \n",
              "4           4            5         0       3   \n",
              "\n",
              "                                                Name     Sex   Age SibSp  \\\n",
              "0                            Braund, Mr. Owen Harris    male  22.0     1   \n",
              "1  Cumings, Mrs. John Bradley (Florence Briggs Th...  female  38.0     1   \n",
              "2                             Heikkinen, Miss. Laina  female  26.0     0   \n",
              "3       Futrelle, Mrs. Jacques Heath (Lily May Peel)  female  35.0     1   \n",
              "4                           Allen, Mr. William Henry    male  35.0     0   \n",
              "\n",
              "   Parch            Ticket    Fare Cabin Embarked  \n",
              "0      0         A/5 21171   $7.25   NaN        S  \n",
              "1      0          PC 17599  $71.28   C85        C  \n",
              "2      0  STON/O2. 3101282   $7.93   NaN        S  \n",
              "3      0            113803  $53.10  C123        S  \n",
              "4      0            373450   $8.05   NaN        S  "
            ],
            "text/html": [
              "\n",
              "  <div id=\"df-93727cb6-d7bf-4a75-a7f7-1298da83bc67\">\n",
              "    <div class=\"colab-df-container\">\n",
              "      <div>\n",
              "<style scoped>\n",
              "    .dataframe tbody tr th:only-of-type {\n",
              "        vertical-align: middle;\n",
              "    }\n",
              "\n",
              "    .dataframe tbody tr th {\n",
              "        vertical-align: top;\n",
              "    }\n",
              "\n",
              "    .dataframe thead th {\n",
              "        text-align: right;\n",
              "    }\n",
              "</style>\n",
              "<table border=\"1\" class=\"dataframe\">\n",
              "  <thead>\n",
              "    <tr style=\"text-align: right;\">\n",
              "      <th></th>\n",
              "      <th>Unnamed: 0</th>\n",
              "      <th>PassengerId</th>\n",
              "      <th>Survived</th>\n",
              "      <th>Pclass</th>\n",
              "      <th>Name</th>\n",
              "      <th>Sex</th>\n",
              "      <th>Age</th>\n",
              "      <th>SibSp</th>\n",
              "      <th>Parch</th>\n",
              "      <th>Ticket</th>\n",
              "      <th>Fare</th>\n",
              "      <th>Cabin</th>\n",
              "      <th>Embarked</th>\n",
              "    </tr>\n",
              "  </thead>\n",
              "  <tbody>\n",
              "    <tr>\n",
              "      <th>0</th>\n",
              "      <td>0</td>\n",
              "      <td>1</td>\n",
              "      <td>0</td>\n",
              "      <td>3</td>\n",
              "      <td>Braund, Mr. Owen Harris</td>\n",
              "      <td>male</td>\n",
              "      <td>22.0</td>\n",
              "      <td>1</td>\n",
              "      <td>0</td>\n",
              "      <td>A/5 21171</td>\n",
              "      <td>$7.25</td>\n",
              "      <td>NaN</td>\n",
              "      <td>S</td>\n",
              "    </tr>\n",
              "    <tr>\n",
              "      <th>1</th>\n",
              "      <td>1</td>\n",
              "      <td>2</td>\n",
              "      <td>1</td>\n",
              "      <td>1</td>\n",
              "      <td>Cumings, Mrs. John Bradley (Florence Briggs Th...</td>\n",
              "      <td>female</td>\n",
              "      <td>38.0</td>\n",
              "      <td>1</td>\n",
              "      <td>0</td>\n",
              "      <td>PC 17599</td>\n",
              "      <td>$71.28</td>\n",
              "      <td>C85</td>\n",
              "      <td>C</td>\n",
              "    </tr>\n",
              "    <tr>\n",
              "      <th>2</th>\n",
              "      <td>2</td>\n",
              "      <td>3</td>\n",
              "      <td>1</td>\n",
              "      <td>3</td>\n",
              "      <td>Heikkinen, Miss. Laina</td>\n",
              "      <td>female</td>\n",
              "      <td>26.0</td>\n",
              "      <td>0</td>\n",
              "      <td>0</td>\n",
              "      <td>STON/O2. 3101282</td>\n",
              "      <td>$7.93</td>\n",
              "      <td>NaN</td>\n",
              "      <td>S</td>\n",
              "    </tr>\n",
              "    <tr>\n",
              "      <th>3</th>\n",
              "      <td>3</td>\n",
              "      <td>4</td>\n",
              "      <td>1</td>\n",
              "      <td>1</td>\n",
              "      <td>Futrelle, Mrs. Jacques Heath (Lily May Peel)</td>\n",
              "      <td>female</td>\n",
              "      <td>35.0</td>\n",
              "      <td>1</td>\n",
              "      <td>0</td>\n",
              "      <td>113803</td>\n",
              "      <td>$53.10</td>\n",
              "      <td>C123</td>\n",
              "      <td>S</td>\n",
              "    </tr>\n",
              "    <tr>\n",
              "      <th>4</th>\n",
              "      <td>4</td>\n",
              "      <td>5</td>\n",
              "      <td>0</td>\n",
              "      <td>3</td>\n",
              "      <td>Allen, Mr. William Henry</td>\n",
              "      <td>male</td>\n",
              "      <td>35.0</td>\n",
              "      <td>0</td>\n",
              "      <td>0</td>\n",
              "      <td>373450</td>\n",
              "      <td>$8.05</td>\n",
              "      <td>NaN</td>\n",
              "      <td>S</td>\n",
              "    </tr>\n",
              "  </tbody>\n",
              "</table>\n",
              "</div>\n",
              "      <button class=\"colab-df-convert\" onclick=\"convertToInteractive('df-93727cb6-d7bf-4a75-a7f7-1298da83bc67')\"\n",
              "              title=\"Convert this dataframe to an interactive table.\"\n",
              "              style=\"display:none;\">\n",
              "        \n",
              "  <svg xmlns=\"http://www.w3.org/2000/svg\" height=\"24px\"viewBox=\"0 0 24 24\"\n",
              "       width=\"24px\">\n",
              "    <path d=\"M0 0h24v24H0V0z\" fill=\"none\"/>\n",
              "    <path d=\"M18.56 5.44l.94 2.06.94-2.06 2.06-.94-2.06-.94-.94-2.06-.94 2.06-2.06.94zm-11 1L8.5 8.5l.94-2.06 2.06-.94-2.06-.94L8.5 2.5l-.94 2.06-2.06.94zm10 10l.94 2.06.94-2.06 2.06-.94-2.06-.94-.94-2.06-.94 2.06-2.06.94z\"/><path d=\"M17.41 7.96l-1.37-1.37c-.4-.4-.92-.59-1.43-.59-.52 0-1.04.2-1.43.59L10.3 9.45l-7.72 7.72c-.78.78-.78 2.05 0 2.83L4 21.41c.39.39.9.59 1.41.59.51 0 1.02-.2 1.41-.59l7.78-7.78 2.81-2.81c.8-.78.8-2.07 0-2.86zM5.41 20L4 18.59l7.72-7.72 1.47 1.35L5.41 20z\"/>\n",
              "  </svg>\n",
              "      </button>\n",
              "      \n",
              "  <style>\n",
              "    .colab-df-container {\n",
              "      display:flex;\n",
              "      flex-wrap:wrap;\n",
              "      gap: 12px;\n",
              "    }\n",
              "\n",
              "    .colab-df-convert {\n",
              "      background-color: #E8F0FE;\n",
              "      border: none;\n",
              "      border-radius: 50%;\n",
              "      cursor: pointer;\n",
              "      display: none;\n",
              "      fill: #1967D2;\n",
              "      height: 32px;\n",
              "      padding: 0 0 0 0;\n",
              "      width: 32px;\n",
              "    }\n",
              "\n",
              "    .colab-df-convert:hover {\n",
              "      background-color: #E2EBFA;\n",
              "      box-shadow: 0px 1px 2px rgba(60, 64, 67, 0.3), 0px 1px 3px 1px rgba(60, 64, 67, 0.15);\n",
              "      fill: #174EA6;\n",
              "    }\n",
              "\n",
              "    [theme=dark] .colab-df-convert {\n",
              "      background-color: #3B4455;\n",
              "      fill: #D2E3FC;\n",
              "    }\n",
              "\n",
              "    [theme=dark] .colab-df-convert:hover {\n",
              "      background-color: #434B5C;\n",
              "      box-shadow: 0px 1px 3px 1px rgba(0, 0, 0, 0.15);\n",
              "      filter: drop-shadow(0px 1px 2px rgba(0, 0, 0, 0.3));\n",
              "      fill: #FFFFFF;\n",
              "    }\n",
              "  </style>\n",
              "\n",
              "      <script>\n",
              "        const buttonEl =\n",
              "          document.querySelector('#df-93727cb6-d7bf-4a75-a7f7-1298da83bc67 button.colab-df-convert');\n",
              "        buttonEl.style.display =\n",
              "          google.colab.kernel.accessAllowed ? 'block' : 'none';\n",
              "\n",
              "        async function convertToInteractive(key) {\n",
              "          const element = document.querySelector('#df-93727cb6-d7bf-4a75-a7f7-1298da83bc67');\n",
              "          const dataTable =\n",
              "            await google.colab.kernel.invokeFunction('convertToInteractive',\n",
              "                                                     [key], {});\n",
              "          if (!dataTable) return;\n",
              "\n",
              "          const docLinkHtml = 'Like what you see? Visit the ' +\n",
              "            '<a target=\"_blank\" href=https://colab.research.google.com/notebooks/data_table.ipynb>data table notebook</a>'\n",
              "            + ' to learn more about interactive tables.';\n",
              "          element.innerHTML = '';\n",
              "          dataTable['output_type'] = 'display_data';\n",
              "          await google.colab.output.renderOutput(dataTable, element);\n",
              "          const docLink = document.createElement('div');\n",
              "          docLink.innerHTML = docLinkHtml;\n",
              "          element.appendChild(docLink);\n",
              "        }\n",
              "      </script>\n",
              "    </div>\n",
              "  </div>\n",
              "  "
            ]
          },
          "metadata": {},
          "execution_count": 124
        }
      ]
    },
    {
      "cell_type": "code",
      "source": [
        "# Display the last 5 rows\n",
        "df_titanic.tail()"
      ],
      "metadata": {
        "id": "-gT5FZQjOwvB",
        "colab": {
          "base_uri": "https://localhost:8080/",
          "height": 206
        },
        "outputId": "91e509dc-cf84-4166-c2a1-90932f2988d6"
      },
      "execution_count": 125,
      "outputs": [
        {
          "output_type": "execute_result",
          "data": {
            "text/plain": [
              "     Unnamed: 0  PassengerId  Survived  Pclass  \\\n",
              "901         622          623         1       3   \n",
              "902          77           78         0       3   \n",
              "903         715          716         0       3   \n",
              "904         623          624         0       3   \n",
              "905         888          889         0       3   \n",
              "\n",
              "                                           Name     Sex   Age SibSp  Parch  \\\n",
              "901                            Nakid, Mr. Sahid    male  20.0     1      1   \n",
              "902                    Moutal, Mr. Rahamin Haim    male   NaN     0      0   \n",
              "903  Soholt, Mr. Peter Andreas Lauritz Andersen    male  19.0     0      0   \n",
              "904                 Hansen, Mr. Henry Damsgaard    male  21.0     0      0   \n",
              "905    Johnston, Miss. Catherine Helen \"Carrie\"  female   NaN     1      2   \n",
              "\n",
              "         Ticket    Fare  Cabin Embarked  \n",
              "901        2653  $15.74    NaN        C  \n",
              "902      374746   $8.05    NaN        S  \n",
              "903      348124   $7.65  F G73        S  \n",
              "904      350029   $7.85    NaN        S  \n",
              "905  W./C. 6607  $23.45    NaN        S  "
            ],
            "text/html": [
              "\n",
              "  <div id=\"df-73d39dd4-5225-42a1-93b8-578ca61bfa4c\">\n",
              "    <div class=\"colab-df-container\">\n",
              "      <div>\n",
              "<style scoped>\n",
              "    .dataframe tbody tr th:only-of-type {\n",
              "        vertical-align: middle;\n",
              "    }\n",
              "\n",
              "    .dataframe tbody tr th {\n",
              "        vertical-align: top;\n",
              "    }\n",
              "\n",
              "    .dataframe thead th {\n",
              "        text-align: right;\n",
              "    }\n",
              "</style>\n",
              "<table border=\"1\" class=\"dataframe\">\n",
              "  <thead>\n",
              "    <tr style=\"text-align: right;\">\n",
              "      <th></th>\n",
              "      <th>Unnamed: 0</th>\n",
              "      <th>PassengerId</th>\n",
              "      <th>Survived</th>\n",
              "      <th>Pclass</th>\n",
              "      <th>Name</th>\n",
              "      <th>Sex</th>\n",
              "      <th>Age</th>\n",
              "      <th>SibSp</th>\n",
              "      <th>Parch</th>\n",
              "      <th>Ticket</th>\n",
              "      <th>Fare</th>\n",
              "      <th>Cabin</th>\n",
              "      <th>Embarked</th>\n",
              "    </tr>\n",
              "  </thead>\n",
              "  <tbody>\n",
              "    <tr>\n",
              "      <th>901</th>\n",
              "      <td>622</td>\n",
              "      <td>623</td>\n",
              "      <td>1</td>\n",
              "      <td>3</td>\n",
              "      <td>Nakid, Mr. Sahid</td>\n",
              "      <td>male</td>\n",
              "      <td>20.0</td>\n",
              "      <td>1</td>\n",
              "      <td>1</td>\n",
              "      <td>2653</td>\n",
              "      <td>$15.74</td>\n",
              "      <td>NaN</td>\n",
              "      <td>C</td>\n",
              "    </tr>\n",
              "    <tr>\n",
              "      <th>902</th>\n",
              "      <td>77</td>\n",
              "      <td>78</td>\n",
              "      <td>0</td>\n",
              "      <td>3</td>\n",
              "      <td>Moutal, Mr. Rahamin Haim</td>\n",
              "      <td>male</td>\n",
              "      <td>NaN</td>\n",
              "      <td>0</td>\n",
              "      <td>0</td>\n",
              "      <td>374746</td>\n",
              "      <td>$8.05</td>\n",
              "      <td>NaN</td>\n",
              "      <td>S</td>\n",
              "    </tr>\n",
              "    <tr>\n",
              "      <th>903</th>\n",
              "      <td>715</td>\n",
              "      <td>716</td>\n",
              "      <td>0</td>\n",
              "      <td>3</td>\n",
              "      <td>Soholt, Mr. Peter Andreas Lauritz Andersen</td>\n",
              "      <td>male</td>\n",
              "      <td>19.0</td>\n",
              "      <td>0</td>\n",
              "      <td>0</td>\n",
              "      <td>348124</td>\n",
              "      <td>$7.65</td>\n",
              "      <td>F G73</td>\n",
              "      <td>S</td>\n",
              "    </tr>\n",
              "    <tr>\n",
              "      <th>904</th>\n",
              "      <td>623</td>\n",
              "      <td>624</td>\n",
              "      <td>0</td>\n",
              "      <td>3</td>\n",
              "      <td>Hansen, Mr. Henry Damsgaard</td>\n",
              "      <td>male</td>\n",
              "      <td>21.0</td>\n",
              "      <td>0</td>\n",
              "      <td>0</td>\n",
              "      <td>350029</td>\n",
              "      <td>$7.85</td>\n",
              "      <td>NaN</td>\n",
              "      <td>S</td>\n",
              "    </tr>\n",
              "    <tr>\n",
              "      <th>905</th>\n",
              "      <td>888</td>\n",
              "      <td>889</td>\n",
              "      <td>0</td>\n",
              "      <td>3</td>\n",
              "      <td>Johnston, Miss. Catherine Helen \"Carrie\"</td>\n",
              "      <td>female</td>\n",
              "      <td>NaN</td>\n",
              "      <td>1</td>\n",
              "      <td>2</td>\n",
              "      <td>W./C. 6607</td>\n",
              "      <td>$23.45</td>\n",
              "      <td>NaN</td>\n",
              "      <td>S</td>\n",
              "    </tr>\n",
              "  </tbody>\n",
              "</table>\n",
              "</div>\n",
              "      <button class=\"colab-df-convert\" onclick=\"convertToInteractive('df-73d39dd4-5225-42a1-93b8-578ca61bfa4c')\"\n",
              "              title=\"Convert this dataframe to an interactive table.\"\n",
              "              style=\"display:none;\">\n",
              "        \n",
              "  <svg xmlns=\"http://www.w3.org/2000/svg\" height=\"24px\"viewBox=\"0 0 24 24\"\n",
              "       width=\"24px\">\n",
              "    <path d=\"M0 0h24v24H0V0z\" fill=\"none\"/>\n",
              "    <path d=\"M18.56 5.44l.94 2.06.94-2.06 2.06-.94-2.06-.94-.94-2.06-.94 2.06-2.06.94zm-11 1L8.5 8.5l.94-2.06 2.06-.94-2.06-.94L8.5 2.5l-.94 2.06-2.06.94zm10 10l.94 2.06.94-2.06 2.06-.94-2.06-.94-.94-2.06-.94 2.06-2.06.94z\"/><path d=\"M17.41 7.96l-1.37-1.37c-.4-.4-.92-.59-1.43-.59-.52 0-1.04.2-1.43.59L10.3 9.45l-7.72 7.72c-.78.78-.78 2.05 0 2.83L4 21.41c.39.39.9.59 1.41.59.51 0 1.02-.2 1.41-.59l7.78-7.78 2.81-2.81c.8-.78.8-2.07 0-2.86zM5.41 20L4 18.59l7.72-7.72 1.47 1.35L5.41 20z\"/>\n",
              "  </svg>\n",
              "      </button>\n",
              "      \n",
              "  <style>\n",
              "    .colab-df-container {\n",
              "      display:flex;\n",
              "      flex-wrap:wrap;\n",
              "      gap: 12px;\n",
              "    }\n",
              "\n",
              "    .colab-df-convert {\n",
              "      background-color: #E8F0FE;\n",
              "      border: none;\n",
              "      border-radius: 50%;\n",
              "      cursor: pointer;\n",
              "      display: none;\n",
              "      fill: #1967D2;\n",
              "      height: 32px;\n",
              "      padding: 0 0 0 0;\n",
              "      width: 32px;\n",
              "    }\n",
              "\n",
              "    .colab-df-convert:hover {\n",
              "      background-color: #E2EBFA;\n",
              "      box-shadow: 0px 1px 2px rgba(60, 64, 67, 0.3), 0px 1px 3px 1px rgba(60, 64, 67, 0.15);\n",
              "      fill: #174EA6;\n",
              "    }\n",
              "\n",
              "    [theme=dark] .colab-df-convert {\n",
              "      background-color: #3B4455;\n",
              "      fill: #D2E3FC;\n",
              "    }\n",
              "\n",
              "    [theme=dark] .colab-df-convert:hover {\n",
              "      background-color: #434B5C;\n",
              "      box-shadow: 0px 1px 3px 1px rgba(0, 0, 0, 0.15);\n",
              "      filter: drop-shadow(0px 1px 2px rgba(0, 0, 0, 0.3));\n",
              "      fill: #FFFFFF;\n",
              "    }\n",
              "  </style>\n",
              "\n",
              "      <script>\n",
              "        const buttonEl =\n",
              "          document.querySelector('#df-73d39dd4-5225-42a1-93b8-578ca61bfa4c button.colab-df-convert');\n",
              "        buttonEl.style.display =\n",
              "          google.colab.kernel.accessAllowed ? 'block' : 'none';\n",
              "\n",
              "        async function convertToInteractive(key) {\n",
              "          const element = document.querySelector('#df-73d39dd4-5225-42a1-93b8-578ca61bfa4c');\n",
              "          const dataTable =\n",
              "            await google.colab.kernel.invokeFunction('convertToInteractive',\n",
              "                                                     [key], {});\n",
              "          if (!dataTable) return;\n",
              "\n",
              "          const docLinkHtml = 'Like what you see? Visit the ' +\n",
              "            '<a target=\"_blank\" href=https://colab.research.google.com/notebooks/data_table.ipynb>data table notebook</a>'\n",
              "            + ' to learn more about interactive tables.';\n",
              "          element.innerHTML = '';\n",
              "          dataTable['output_type'] = 'display_data';\n",
              "          await google.colab.output.renderOutput(dataTable, element);\n",
              "          const docLink = document.createElement('div');\n",
              "          docLink.innerHTML = docLinkHtml;\n",
              "          element.appendChild(docLink);\n",
              "        }\n",
              "      </script>\n",
              "    </div>\n",
              "  </div>\n",
              "  "
            ]
          },
          "metadata": {},
          "execution_count": 125
        }
      ]
    },
    {
      "cell_type": "markdown",
      "source": [
        "- Display summary information (including dtypes, number of rows, number of columns).\n"
      ],
      "metadata": {
        "id": "tOL6ujJ4OS3r"
      }
    },
    {
      "cell_type": "code",
      "source": [
        "# Display the info for the dataframe\n",
        "df_titanic.info()"
      ],
      "metadata": {
        "id": "DEGSDXiZPAJX",
        "colab": {
          "base_uri": "https://localhost:8080/"
        },
        "outputId": "931bed82-f075-4e44-b4a3-8828710180f3"
      },
      "execution_count": 126,
      "outputs": [
        {
          "output_type": "stream",
          "name": "stdout",
          "text": [
            "<class 'pandas.core.frame.DataFrame'>\n",
            "RangeIndex: 906 entries, 0 to 905\n",
            "Data columns (total 13 columns):\n",
            " #   Column       Non-Null Count  Dtype  \n",
            "---  ------       --------------  -----  \n",
            " 0   Unnamed: 0   906 non-null    int64  \n",
            " 1   PassengerId  906 non-null    int64  \n",
            " 2   Survived     906 non-null    int64  \n",
            " 3   Pclass       906 non-null    int64  \n",
            " 4   Name         906 non-null    object \n",
            " 5   Sex          906 non-null    object \n",
            " 6   Age          723 non-null    float64\n",
            " 7   SibSp        906 non-null    object \n",
            " 8   Parch        906 non-null    int64  \n",
            " 9   Ticket       906 non-null    object \n",
            " 10  Fare         906 non-null    object \n",
            " 11  Cabin        207 non-null    object \n",
            " 12  Embarked     904 non-null    object \n",
            "dtypes: float64(1), int64(5), object(7)\n",
            "memory usage: 92.1+ KB\n"
          ]
        }
      ]
    },
    {
      "cell_type": "markdown",
      "source": [
        "**Scan the .info() to answer the following questions about the data:**\n",
        "\n",
        ">Add your answers in this Markdown cell, right below each question:\n",
        "\n",
        "**Q: A1) How many rows are there?**\n",
        "- Your Answer:\n",
        "   - 906\n",
        "\n",
        "**Q: A2) How many columns are there?**\n",
        "- Your Answer:\n",
        "  - 13\n"
      ],
      "metadata": {
        "id": "cUSQkg9hRTA2"
      }
    },
    {
      "cell_type": "markdown",
      "source": [
        "\n",
        "\n",
        "**Q: A3)How many numeric columns?**\n",
        "- Your Answer:\n",
        "  - 6\n",
        "\n",
        "**Q: A4) How many categorical/string columns are there (dtype='object')?**\n",
        "- Your Answer:\n",
        "  - 7"
      ],
      "metadata": {
        "id": "fQVpRuxM3t69"
      }
    },
    {
      "cell_type": "markdown",
      "source": [
        "## B) Check Data Types and Convert (if required)\n"
      ],
      "metadata": {
        "id": "t4VzfV4gitk5"
      }
    },
    {
      "cell_type": "markdown",
      "source": [
        "> Notice there are several columns with \"object\" datatype.\n",
        "\n",
        "- **Use select_dtypes to view only the object columns**\n"
      ],
      "metadata": {
        "id": "JGAppZRvaDeT"
      }
    },
    {
      "cell_type": "code",
      "source": [
        "# Use .select_dtypes to view only object columns\n",
        "df_titanic.select_dtypes(include=['object'])"
      ],
      "metadata": {
        "id": "o3jRzSXzcpXR",
        "colab": {
          "base_uri": "https://localhost:8080/",
          "height": 423
        },
        "outputId": "95aef7ce-f0a5-4126-8f10-82fb7218b11d"
      },
      "execution_count": 127,
      "outputs": [
        {
          "output_type": "execute_result",
          "data": {
            "text/plain": [
              "                                                  Name     Sex SibSp  \\\n",
              "0                              Braund, Mr. Owen Harris    male     1   \n",
              "1    Cumings, Mrs. John Bradley (Florence Briggs Th...  female     1   \n",
              "2                               Heikkinen, Miss. Laina  female     0   \n",
              "3         Futrelle, Mrs. Jacques Heath (Lily May Peel)  female     1   \n",
              "4                             Allen, Mr. William Henry    male     0   \n",
              "..                                                 ...     ...   ...   \n",
              "901                                   Nakid, Mr. Sahid    male     1   \n",
              "902                           Moutal, Mr. Rahamin Haim    male     0   \n",
              "903         Soholt, Mr. Peter Andreas Lauritz Andersen    male     0   \n",
              "904                        Hansen, Mr. Henry Damsgaard    male     0   \n",
              "905           Johnston, Miss. Catherine Helen \"Carrie\"  female     1   \n",
              "\n",
              "               Ticket    Fare  Cabin Embarked  \n",
              "0           A/5 21171   $7.25    NaN        S  \n",
              "1            PC 17599  $71.28    C85        C  \n",
              "2    STON/O2. 3101282   $7.93    NaN        S  \n",
              "3              113803  $53.10   C123        S  \n",
              "4              373450   $8.05    NaN        S  \n",
              "..                ...     ...    ...      ...  \n",
              "901              2653  $15.74    NaN        C  \n",
              "902            374746   $8.05    NaN        S  \n",
              "903            348124   $7.65  F G73        S  \n",
              "904            350029   $7.85    NaN        S  \n",
              "905        W./C. 6607  $23.45    NaN        S  \n",
              "\n",
              "[906 rows x 7 columns]"
            ],
            "text/html": [
              "\n",
              "  <div id=\"df-043f81f4-b0cf-4b59-93d5-87466e8c37d0\">\n",
              "    <div class=\"colab-df-container\">\n",
              "      <div>\n",
              "<style scoped>\n",
              "    .dataframe tbody tr th:only-of-type {\n",
              "        vertical-align: middle;\n",
              "    }\n",
              "\n",
              "    .dataframe tbody tr th {\n",
              "        vertical-align: top;\n",
              "    }\n",
              "\n",
              "    .dataframe thead th {\n",
              "        text-align: right;\n",
              "    }\n",
              "</style>\n",
              "<table border=\"1\" class=\"dataframe\">\n",
              "  <thead>\n",
              "    <tr style=\"text-align: right;\">\n",
              "      <th></th>\n",
              "      <th>Name</th>\n",
              "      <th>Sex</th>\n",
              "      <th>SibSp</th>\n",
              "      <th>Ticket</th>\n",
              "      <th>Fare</th>\n",
              "      <th>Cabin</th>\n",
              "      <th>Embarked</th>\n",
              "    </tr>\n",
              "  </thead>\n",
              "  <tbody>\n",
              "    <tr>\n",
              "      <th>0</th>\n",
              "      <td>Braund, Mr. Owen Harris</td>\n",
              "      <td>male</td>\n",
              "      <td>1</td>\n",
              "      <td>A/5 21171</td>\n",
              "      <td>$7.25</td>\n",
              "      <td>NaN</td>\n",
              "      <td>S</td>\n",
              "    </tr>\n",
              "    <tr>\n",
              "      <th>1</th>\n",
              "      <td>Cumings, Mrs. John Bradley (Florence Briggs Th...</td>\n",
              "      <td>female</td>\n",
              "      <td>1</td>\n",
              "      <td>PC 17599</td>\n",
              "      <td>$71.28</td>\n",
              "      <td>C85</td>\n",
              "      <td>C</td>\n",
              "    </tr>\n",
              "    <tr>\n",
              "      <th>2</th>\n",
              "      <td>Heikkinen, Miss. Laina</td>\n",
              "      <td>female</td>\n",
              "      <td>0</td>\n",
              "      <td>STON/O2. 3101282</td>\n",
              "      <td>$7.93</td>\n",
              "      <td>NaN</td>\n",
              "      <td>S</td>\n",
              "    </tr>\n",
              "    <tr>\n",
              "      <th>3</th>\n",
              "      <td>Futrelle, Mrs. Jacques Heath (Lily May Peel)</td>\n",
              "      <td>female</td>\n",
              "      <td>1</td>\n",
              "      <td>113803</td>\n",
              "      <td>$53.10</td>\n",
              "      <td>C123</td>\n",
              "      <td>S</td>\n",
              "    </tr>\n",
              "    <tr>\n",
              "      <th>4</th>\n",
              "      <td>Allen, Mr. William Henry</td>\n",
              "      <td>male</td>\n",
              "      <td>0</td>\n",
              "      <td>373450</td>\n",
              "      <td>$8.05</td>\n",
              "      <td>NaN</td>\n",
              "      <td>S</td>\n",
              "    </tr>\n",
              "    <tr>\n",
              "      <th>...</th>\n",
              "      <td>...</td>\n",
              "      <td>...</td>\n",
              "      <td>...</td>\n",
              "      <td>...</td>\n",
              "      <td>...</td>\n",
              "      <td>...</td>\n",
              "      <td>...</td>\n",
              "    </tr>\n",
              "    <tr>\n",
              "      <th>901</th>\n",
              "      <td>Nakid, Mr. Sahid</td>\n",
              "      <td>male</td>\n",
              "      <td>1</td>\n",
              "      <td>2653</td>\n",
              "      <td>$15.74</td>\n",
              "      <td>NaN</td>\n",
              "      <td>C</td>\n",
              "    </tr>\n",
              "    <tr>\n",
              "      <th>902</th>\n",
              "      <td>Moutal, Mr. Rahamin Haim</td>\n",
              "      <td>male</td>\n",
              "      <td>0</td>\n",
              "      <td>374746</td>\n",
              "      <td>$8.05</td>\n",
              "      <td>NaN</td>\n",
              "      <td>S</td>\n",
              "    </tr>\n",
              "    <tr>\n",
              "      <th>903</th>\n",
              "      <td>Soholt, Mr. Peter Andreas Lauritz Andersen</td>\n",
              "      <td>male</td>\n",
              "      <td>0</td>\n",
              "      <td>348124</td>\n",
              "      <td>$7.65</td>\n",
              "      <td>F G73</td>\n",
              "      <td>S</td>\n",
              "    </tr>\n",
              "    <tr>\n",
              "      <th>904</th>\n",
              "      <td>Hansen, Mr. Henry Damsgaard</td>\n",
              "      <td>male</td>\n",
              "      <td>0</td>\n",
              "      <td>350029</td>\n",
              "      <td>$7.85</td>\n",
              "      <td>NaN</td>\n",
              "      <td>S</td>\n",
              "    </tr>\n",
              "    <tr>\n",
              "      <th>905</th>\n",
              "      <td>Johnston, Miss. Catherine Helen \"Carrie\"</td>\n",
              "      <td>female</td>\n",
              "      <td>1</td>\n",
              "      <td>W./C. 6607</td>\n",
              "      <td>$23.45</td>\n",
              "      <td>NaN</td>\n",
              "      <td>S</td>\n",
              "    </tr>\n",
              "  </tbody>\n",
              "</table>\n",
              "<p>906 rows × 7 columns</p>\n",
              "</div>\n",
              "      <button class=\"colab-df-convert\" onclick=\"convertToInteractive('df-043f81f4-b0cf-4b59-93d5-87466e8c37d0')\"\n",
              "              title=\"Convert this dataframe to an interactive table.\"\n",
              "              style=\"display:none;\">\n",
              "        \n",
              "  <svg xmlns=\"http://www.w3.org/2000/svg\" height=\"24px\"viewBox=\"0 0 24 24\"\n",
              "       width=\"24px\">\n",
              "    <path d=\"M0 0h24v24H0V0z\" fill=\"none\"/>\n",
              "    <path d=\"M18.56 5.44l.94 2.06.94-2.06 2.06-.94-2.06-.94-.94-2.06-.94 2.06-2.06.94zm-11 1L8.5 8.5l.94-2.06 2.06-.94-2.06-.94L8.5 2.5l-.94 2.06-2.06.94zm10 10l.94 2.06.94-2.06 2.06-.94-2.06-.94-.94-2.06-.94 2.06-2.06.94z\"/><path d=\"M17.41 7.96l-1.37-1.37c-.4-.4-.92-.59-1.43-.59-.52 0-1.04.2-1.43.59L10.3 9.45l-7.72 7.72c-.78.78-.78 2.05 0 2.83L4 21.41c.39.39.9.59 1.41.59.51 0 1.02-.2 1.41-.59l7.78-7.78 2.81-2.81c.8-.78.8-2.07 0-2.86zM5.41 20L4 18.59l7.72-7.72 1.47 1.35L5.41 20z\"/>\n",
              "  </svg>\n",
              "      </button>\n",
              "      \n",
              "  <style>\n",
              "    .colab-df-container {\n",
              "      display:flex;\n",
              "      flex-wrap:wrap;\n",
              "      gap: 12px;\n",
              "    }\n",
              "\n",
              "    .colab-df-convert {\n",
              "      background-color: #E8F0FE;\n",
              "      border: none;\n",
              "      border-radius: 50%;\n",
              "      cursor: pointer;\n",
              "      display: none;\n",
              "      fill: #1967D2;\n",
              "      height: 32px;\n",
              "      padding: 0 0 0 0;\n",
              "      width: 32px;\n",
              "    }\n",
              "\n",
              "    .colab-df-convert:hover {\n",
              "      background-color: #E2EBFA;\n",
              "      box-shadow: 0px 1px 2px rgba(60, 64, 67, 0.3), 0px 1px 3px 1px rgba(60, 64, 67, 0.15);\n",
              "      fill: #174EA6;\n",
              "    }\n",
              "\n",
              "    [theme=dark] .colab-df-convert {\n",
              "      background-color: #3B4455;\n",
              "      fill: #D2E3FC;\n",
              "    }\n",
              "\n",
              "    [theme=dark] .colab-df-convert:hover {\n",
              "      background-color: #434B5C;\n",
              "      box-shadow: 0px 1px 3px 1px rgba(0, 0, 0, 0.15);\n",
              "      filter: drop-shadow(0px 1px 2px rgba(0, 0, 0, 0.3));\n",
              "      fill: #FFFFFF;\n",
              "    }\n",
              "  </style>\n",
              "\n",
              "      <script>\n",
              "        const buttonEl =\n",
              "          document.querySelector('#df-043f81f4-b0cf-4b59-93d5-87466e8c37d0 button.colab-df-convert');\n",
              "        buttonEl.style.display =\n",
              "          google.colab.kernel.accessAllowed ? 'block' : 'none';\n",
              "\n",
              "        async function convertToInteractive(key) {\n",
              "          const element = document.querySelector('#df-043f81f4-b0cf-4b59-93d5-87466e8c37d0');\n",
              "          const dataTable =\n",
              "            await google.colab.kernel.invokeFunction('convertToInteractive',\n",
              "                                                     [key], {});\n",
              "          if (!dataTable) return;\n",
              "\n",
              "          const docLinkHtml = 'Like what you see? Visit the ' +\n",
              "            '<a target=\"_blank\" href=https://colab.research.google.com/notebooks/data_table.ipynb>data table notebook</a>'\n",
              "            + ' to learn more about interactive tables.';\n",
              "          element.innerHTML = '';\n",
              "          dataTable['output_type'] = 'display_data';\n",
              "          await google.colab.output.renderOutput(dataTable, element);\n",
              "          const docLink = document.createElement('div');\n",
              "          docLink.innerHTML = docLinkHtml;\n",
              "          element.appendChild(docLink);\n",
              "        }\n",
              "      </script>\n",
              "    </div>\n",
              "  </div>\n",
              "  "
            ]
          },
          "metadata": {},
          "execution_count": 127
        }
      ]
    },
    {
      "cell_type": "markdown",
      "source": [
        "- Inspect the values in each column to confirm if they should be converted to numeric dtypes and answer the following questions:\n"
      ],
      "metadata": {
        "id": "o83V70CV4MRf"
      }
    },
    {
      "cell_type": "markdown",
      "source": [
        "\n",
        "\n",
        "**Q: B1) Which columns should be converted to a numeric dtype?**  (Hint: there are 2 columns that need to be converted)\n",
        "- **Your Answer:**\n",
        "  - SibSp\n",
        "  - Fare\n",
        "    \n",
        "\n",
        "\n"
      ],
      "metadata": {
        "id": "gdPhHusjebwy"
      }
    },
    {
      "cell_type": "markdown",
      "source": [
        "### Convert Dtypes"
      ],
      "metadata": {
        "id": "5qU24C-ihnQf"
      }
    },
    {
      "cell_type": "markdown",
      "source": [
        "#### Convert Fare"
      ],
      "metadata": {
        "id": "_H10qEVR5epj"
      }
    },
    {
      "cell_type": "code",
      "source": [
        "# Inspect the Fare column's value counts\n",
        "fare_value_counts=df_titanic['Fare'].value_counts()\n",
        "print(fare_value_counts)"
      ],
      "metadata": {
        "id": "3Zg54AwUjmRi",
        "colab": {
          "base_uri": "https://localhost:8080/"
        },
        "outputId": "a534bfe4-0ee7-4fa1-b08e-41a635e8c8dd"
      },
      "execution_count": 128,
      "outputs": [
        {
          "output_type": "stream",
          "name": "stdout",
          "text": [
            "$8.05     45\n",
            "$13.00    42\n",
            "$7.90     38\n",
            "$7.75     35\n",
            "$26.00    31\n",
            "          ..\n",
            "$6.86      1\n",
            "$12.65     1\n",
            "$12.53     1\n",
            "$12.00     1\n",
            "$10.52     1\n",
            "Name: Fare, Length: 234, dtype: int64\n"
          ]
        }
      ]
    },
    {
      "cell_type": "markdown",
      "source": [
        "\n",
        "\n",
        ">In a Markdown cell below your displayed info, answer the following questions:\n",
        "\n",
        "**Q: B2)  Do you see any values that are string characters that need to be replaced?**\n",
        "- Your Answer:\n",
        "  - yes, $ sign\n",
        "\n",
        "**Q: B3) If so, do you need to replace a single part of a string (`df[col].str.replace`) or an entire value (`df[col].replace`)?**\n",
        "- Your Answer:\n",
        "  - df_titanic['Fare'] = df_titanic['Fare'].str.replace('$', '')"
      ],
      "metadata": {
        "id": "YI4YFIdT4vc3"
      }
    },
    {
      "cell_type": "markdown",
      "source": [
        "**Perform the necessary steps to convert to numeric dtype:**\n",
        "\n",
        "- 1) Replace/remove the non-numeric values."
      ],
      "metadata": {
        "id": "vk5cvcFQ5DAO"
      }
    },
    {
      "cell_type": "code",
      "source": [
        "# Remove  the \"$\" from fare column by replacing it with nothing\n",
        "df_titanic['Fare'] = df_titanic['Fare'].str.replace('$','')\n",
        "# Check the .value_counts to confirm the change\n",
        "fare_value_counts_after_dollar=df_titanic['Fare'].value_counts()\n",
        "print(fare_value_counts_after_dollar)"
      ],
      "metadata": {
        "id": "lsxVIzhkcYxM",
        "colab": {
          "base_uri": "https://localhost:8080/"
        },
        "outputId": "acdddd0d-8e97-4981-dd0b-bc70c4424cf4"
      },
      "execution_count": 129,
      "outputs": [
        {
          "output_type": "stream",
          "name": "stdout",
          "text": [
            "8.05     45\n",
            "13.00    42\n",
            "7.90     38\n",
            "7.75     35\n",
            "26.00    31\n",
            "         ..\n",
            "6.86      1\n",
            "12.65     1\n",
            "12.53     1\n",
            "12.00     1\n",
            "10.52     1\n",
            "Name: Fare, Length: 234, dtype: int64\n"
          ]
        },
        {
          "output_type": "stream",
          "name": "stderr",
          "text": [
            "<ipython-input-129-20b0f6ad3edf>:2: FutureWarning: The default value of regex will change from True to False in a future version. In addition, single character regular expressions will *not* be treated as literal strings when regex=True.\n",
            "  df_titanic['Fare'] = df_titanic['Fare'].str.replace('$','')\n"
          ]
        }
      ]
    },
    {
      "cell_type": "markdown",
      "source": [
        "\n",
        "- 2) Convert the column to a float dtype."
      ],
      "metadata": {
        "id": "MklbU8IL5I3N"
      }
    },
    {
      "cell_type": "code",
      "source": [
        "# Change the datatype of Fare column to float\n",
        "df_titanic['Fare'] = df_titanic['Fare'].astype('float')\n",
        "# Confirm the datatype\n",
        "df_titanic['Fare'].dtype"
      ],
      "metadata": {
        "id": "zFqIHDCfjr-6",
        "colab": {
          "base_uri": "https://localhost:8080/"
        },
        "outputId": "05398a92-3792-4d90-8979-b6d1bc36f624"
      },
      "execution_count": 130,
      "outputs": [
        {
          "output_type": "execute_result",
          "data": {
            "text/plain": [
              "dtype('float64')"
            ]
          },
          "metadata": {},
          "execution_count": 130
        }
      ]
    },
    {
      "cell_type": "markdown",
      "source": [
        "#### Convert SibSp"
      ],
      "metadata": {
        "id": "RXLzjUPh5pDG"
      }
    },
    {
      "cell_type": "code",
      "source": [
        "# Inspect the Sibsp column's value counts\n",
        "Sibsp_value_counts = df_titanic['SibSp'].value_counts()\n",
        "print(Sibsp_value_counts)"
      ],
      "metadata": {
        "id": "RYgkzF9G8NCU",
        "colab": {
          "base_uri": "https://localhost:8080/"
        },
        "outputId": "c15d97aa-5ab3-43b6-90f1-8b92f3e5f838"
      },
      "execution_count": 131,
      "outputs": [
        {
          "output_type": "stream",
          "name": "stdout",
          "text": [
            "0      618\n",
            "1      212\n",
            "2       27\n",
            "4       18\n",
            "3       16\n",
            "8        7\n",
            "5        5\n",
            "one      3\n",
            "Name: SibSp, dtype: int64\n"
          ]
        }
      ]
    },
    {
      "cell_type": "markdown",
      "source": [
        ">In a Markdown cell below your displayed info, answer the following questions:\n",
        "\n",
        "**Q: B3)  Do you see any values that are string characters that need to be replaced?**\n",
        "- Your Answer:\n",
        "  - yes, replace string value one with integer value 1\n",
        "\n",
        "**Q: B4) If so, do you need to replace a single part of a string (`df[col].str.replace`) or an entire value (`df[col].replace`)?**\n",
        "- Your Answer:\n",
        "  - df_titanic['SibSp'] = df_titanic['SibSp'].replace('one',1)"
      ],
      "metadata": {
        "id": "lgk9SrtT5z_i"
      }
    },
    {
      "cell_type": "markdown",
      "source": [
        "**Perform the necessary steps to convert to numeric dtype:**\n",
        "\n",
        "- 1) Replace/remove the non-numeric values."
      ],
      "metadata": {
        "id": "3CpEwTet5z_i"
      }
    },
    {
      "cell_type": "code",
      "source": [
        "# There are 3 values of \"one\" which should be replaced with \"1\"\n",
        "df_titanic['SibSp'] = df_titanic['SibSp'].replace('one',1)\n",
        "# Display the value counts again to confirm the change\n",
        "print(df_titanic['SibSp'].value_counts())"
      ],
      "metadata": {
        "id": "MjtCtcwHDbXn",
        "colab": {
          "base_uri": "https://localhost:8080/"
        },
        "outputId": "901e90d0-7ee4-4312-f774-45a6975d672e"
      },
      "execution_count": 132,
      "outputs": [
        {
          "output_type": "stream",
          "name": "stdout",
          "text": [
            "0    618\n",
            "1    212\n",
            "2     27\n",
            "4     18\n",
            "3     16\n",
            "8      7\n",
            "5      5\n",
            "1      3\n",
            "Name: SibSp, dtype: int64\n"
          ]
        }
      ]
    },
    {
      "cell_type": "markdown",
      "source": [
        "\n",
        "- 2) Convert the column to a float dtype."
      ],
      "metadata": {
        "id": "ZgUDCoEN6PF3"
      }
    },
    {
      "cell_type": "code",
      "source": [
        "# Convert the SibSp column to integer dtype\n",
        "df_titanic['SibSp']=df_titanic['SibSp'].astype(int)\n",
        "# Confirm the datatype\n",
        "print(df_titanic['SibSp'].dtype)"
      ],
      "metadata": {
        "id": "n7Eav1piERbn",
        "colab": {
          "base_uri": "https://localhost:8080/"
        },
        "outputId": "7ef57860-6b79-40cf-cc65-d7db7bd54093"
      },
      "execution_count": 133,
      "outputs": [
        {
          "output_type": "stream",
          "name": "stdout",
          "text": [
            "int64\n"
          ]
        }
      ]
    },
    {
      "cell_type": "markdown",
      "source": [
        "## C) Drop Unwanted Columns"
      ],
      "metadata": {
        "id": "2WJJo4vOjH6x"
      }
    },
    {
      "cell_type": "markdown",
      "source": [
        "- Drop the 'Unnamed: 0' column because it is an error"
      ],
      "metadata": {
        "id": "V_8w1txa7ujq"
      }
    },
    {
      "cell_type": "code",
      "source": [
        "# Drop the Unnamed: 0 column\n",
        "df_titanic = df_titanic.drop('Unnamed: 0',axis=1)\n",
        "# Display the .head to confirm the change\n",
        "df_titanic.head()"
      ],
      "metadata": {
        "id": "LEe3645pcur8",
        "colab": {
          "base_uri": "https://localhost:8080/",
          "height": 206
        },
        "outputId": "5e4718ed-e107-49b5-bf6a-6a69871dc6d5"
      },
      "execution_count": 134,
      "outputs": [
        {
          "output_type": "execute_result",
          "data": {
            "text/plain": [
              "   PassengerId  Survived  Pclass  \\\n",
              "0            1         0       3   \n",
              "1            2         1       1   \n",
              "2            3         1       3   \n",
              "3            4         1       1   \n",
              "4            5         0       3   \n",
              "\n",
              "                                                Name     Sex   Age  SibSp  \\\n",
              "0                            Braund, Mr. Owen Harris    male  22.0      1   \n",
              "1  Cumings, Mrs. John Bradley (Florence Briggs Th...  female  38.0      1   \n",
              "2                             Heikkinen, Miss. Laina  female  26.0      0   \n",
              "3       Futrelle, Mrs. Jacques Heath (Lily May Peel)  female  35.0      1   \n",
              "4                           Allen, Mr. William Henry    male  35.0      0   \n",
              "\n",
              "   Parch            Ticket   Fare Cabin Embarked  \n",
              "0      0         A/5 21171   7.25   NaN        S  \n",
              "1      0          PC 17599  71.28   C85        C  \n",
              "2      0  STON/O2. 3101282   7.93   NaN        S  \n",
              "3      0            113803  53.10  C123        S  \n",
              "4      0            373450   8.05   NaN        S  "
            ],
            "text/html": [
              "\n",
              "  <div id=\"df-5113b0c7-f5d6-47b8-a69e-90e3fc83a4a4\">\n",
              "    <div class=\"colab-df-container\">\n",
              "      <div>\n",
              "<style scoped>\n",
              "    .dataframe tbody tr th:only-of-type {\n",
              "        vertical-align: middle;\n",
              "    }\n",
              "\n",
              "    .dataframe tbody tr th {\n",
              "        vertical-align: top;\n",
              "    }\n",
              "\n",
              "    .dataframe thead th {\n",
              "        text-align: right;\n",
              "    }\n",
              "</style>\n",
              "<table border=\"1\" class=\"dataframe\">\n",
              "  <thead>\n",
              "    <tr style=\"text-align: right;\">\n",
              "      <th></th>\n",
              "      <th>PassengerId</th>\n",
              "      <th>Survived</th>\n",
              "      <th>Pclass</th>\n",
              "      <th>Name</th>\n",
              "      <th>Sex</th>\n",
              "      <th>Age</th>\n",
              "      <th>SibSp</th>\n",
              "      <th>Parch</th>\n",
              "      <th>Ticket</th>\n",
              "      <th>Fare</th>\n",
              "      <th>Cabin</th>\n",
              "      <th>Embarked</th>\n",
              "    </tr>\n",
              "  </thead>\n",
              "  <tbody>\n",
              "    <tr>\n",
              "      <th>0</th>\n",
              "      <td>1</td>\n",
              "      <td>0</td>\n",
              "      <td>3</td>\n",
              "      <td>Braund, Mr. Owen Harris</td>\n",
              "      <td>male</td>\n",
              "      <td>22.0</td>\n",
              "      <td>1</td>\n",
              "      <td>0</td>\n",
              "      <td>A/5 21171</td>\n",
              "      <td>7.25</td>\n",
              "      <td>NaN</td>\n",
              "      <td>S</td>\n",
              "    </tr>\n",
              "    <tr>\n",
              "      <th>1</th>\n",
              "      <td>2</td>\n",
              "      <td>1</td>\n",
              "      <td>1</td>\n",
              "      <td>Cumings, Mrs. John Bradley (Florence Briggs Th...</td>\n",
              "      <td>female</td>\n",
              "      <td>38.0</td>\n",
              "      <td>1</td>\n",
              "      <td>0</td>\n",
              "      <td>PC 17599</td>\n",
              "      <td>71.28</td>\n",
              "      <td>C85</td>\n",
              "      <td>C</td>\n",
              "    </tr>\n",
              "    <tr>\n",
              "      <th>2</th>\n",
              "      <td>3</td>\n",
              "      <td>1</td>\n",
              "      <td>3</td>\n",
              "      <td>Heikkinen, Miss. Laina</td>\n",
              "      <td>female</td>\n",
              "      <td>26.0</td>\n",
              "      <td>0</td>\n",
              "      <td>0</td>\n",
              "      <td>STON/O2. 3101282</td>\n",
              "      <td>7.93</td>\n",
              "      <td>NaN</td>\n",
              "      <td>S</td>\n",
              "    </tr>\n",
              "    <tr>\n",
              "      <th>3</th>\n",
              "      <td>4</td>\n",
              "      <td>1</td>\n",
              "      <td>1</td>\n",
              "      <td>Futrelle, Mrs. Jacques Heath (Lily May Peel)</td>\n",
              "      <td>female</td>\n",
              "      <td>35.0</td>\n",
              "      <td>1</td>\n",
              "      <td>0</td>\n",
              "      <td>113803</td>\n",
              "      <td>53.10</td>\n",
              "      <td>C123</td>\n",
              "      <td>S</td>\n",
              "    </tr>\n",
              "    <tr>\n",
              "      <th>4</th>\n",
              "      <td>5</td>\n",
              "      <td>0</td>\n",
              "      <td>3</td>\n",
              "      <td>Allen, Mr. William Henry</td>\n",
              "      <td>male</td>\n",
              "      <td>35.0</td>\n",
              "      <td>0</td>\n",
              "      <td>0</td>\n",
              "      <td>373450</td>\n",
              "      <td>8.05</td>\n",
              "      <td>NaN</td>\n",
              "      <td>S</td>\n",
              "    </tr>\n",
              "  </tbody>\n",
              "</table>\n",
              "</div>\n",
              "      <button class=\"colab-df-convert\" onclick=\"convertToInteractive('df-5113b0c7-f5d6-47b8-a69e-90e3fc83a4a4')\"\n",
              "              title=\"Convert this dataframe to an interactive table.\"\n",
              "              style=\"display:none;\">\n",
              "        \n",
              "  <svg xmlns=\"http://www.w3.org/2000/svg\" height=\"24px\"viewBox=\"0 0 24 24\"\n",
              "       width=\"24px\">\n",
              "    <path d=\"M0 0h24v24H0V0z\" fill=\"none\"/>\n",
              "    <path d=\"M18.56 5.44l.94 2.06.94-2.06 2.06-.94-2.06-.94-.94-2.06-.94 2.06-2.06.94zm-11 1L8.5 8.5l.94-2.06 2.06-.94-2.06-.94L8.5 2.5l-.94 2.06-2.06.94zm10 10l.94 2.06.94-2.06 2.06-.94-2.06-.94-.94-2.06-.94 2.06-2.06.94z\"/><path d=\"M17.41 7.96l-1.37-1.37c-.4-.4-.92-.59-1.43-.59-.52 0-1.04.2-1.43.59L10.3 9.45l-7.72 7.72c-.78.78-.78 2.05 0 2.83L4 21.41c.39.39.9.59 1.41.59.51 0 1.02-.2 1.41-.59l7.78-7.78 2.81-2.81c.8-.78.8-2.07 0-2.86zM5.41 20L4 18.59l7.72-7.72 1.47 1.35L5.41 20z\"/>\n",
              "  </svg>\n",
              "      </button>\n",
              "      \n",
              "  <style>\n",
              "    .colab-df-container {\n",
              "      display:flex;\n",
              "      flex-wrap:wrap;\n",
              "      gap: 12px;\n",
              "    }\n",
              "\n",
              "    .colab-df-convert {\n",
              "      background-color: #E8F0FE;\n",
              "      border: none;\n",
              "      border-radius: 50%;\n",
              "      cursor: pointer;\n",
              "      display: none;\n",
              "      fill: #1967D2;\n",
              "      height: 32px;\n",
              "      padding: 0 0 0 0;\n",
              "      width: 32px;\n",
              "    }\n",
              "\n",
              "    .colab-df-convert:hover {\n",
              "      background-color: #E2EBFA;\n",
              "      box-shadow: 0px 1px 2px rgba(60, 64, 67, 0.3), 0px 1px 3px 1px rgba(60, 64, 67, 0.15);\n",
              "      fill: #174EA6;\n",
              "    }\n",
              "\n",
              "    [theme=dark] .colab-df-convert {\n",
              "      background-color: #3B4455;\n",
              "      fill: #D2E3FC;\n",
              "    }\n",
              "\n",
              "    [theme=dark] .colab-df-convert:hover {\n",
              "      background-color: #434B5C;\n",
              "      box-shadow: 0px 1px 3px 1px rgba(0, 0, 0, 0.15);\n",
              "      filter: drop-shadow(0px 1px 2px rgba(0, 0, 0, 0.3));\n",
              "      fill: #FFFFFF;\n",
              "    }\n",
              "  </style>\n",
              "\n",
              "      <script>\n",
              "        const buttonEl =\n",
              "          document.querySelector('#df-5113b0c7-f5d6-47b8-a69e-90e3fc83a4a4 button.colab-df-convert');\n",
              "        buttonEl.style.display =\n",
              "          google.colab.kernel.accessAllowed ? 'block' : 'none';\n",
              "\n",
              "        async function convertToInteractive(key) {\n",
              "          const element = document.querySelector('#df-5113b0c7-f5d6-47b8-a69e-90e3fc83a4a4');\n",
              "          const dataTable =\n",
              "            await google.colab.kernel.invokeFunction('convertToInteractive',\n",
              "                                                     [key], {});\n",
              "          if (!dataTable) return;\n",
              "\n",
              "          const docLinkHtml = 'Like what you see? Visit the ' +\n",
              "            '<a target=\"_blank\" href=https://colab.research.google.com/notebooks/data_table.ipynb>data table notebook</a>'\n",
              "            + ' to learn more about interactive tables.';\n",
              "          element.innerHTML = '';\n",
              "          dataTable['output_type'] = 'display_data';\n",
              "          await google.colab.output.renderOutput(dataTable, element);\n",
              "          const docLink = document.createElement('div');\n",
              "          docLink.innerHTML = docLinkHtml;\n",
              "          element.appendChild(docLink);\n",
              "        }\n",
              "      </script>\n",
              "    </div>\n",
              "  </div>\n",
              "  "
            ]
          },
          "metadata": {},
          "execution_count": 134
        }
      ]
    },
    {
      "cell_type": "markdown",
      "source": [
        "## D) Rename Columns\n",
        "(that have Confusing/Abbreviated Column Names)"
      ],
      "metadata": {
        "id": "EXeneBJmkrAY"
      }
    },
    {
      "cell_type": "markdown",
      "source": [
        "In the cell below:\n",
        "- Rename the SibSp column as \"Siblings or Spouses\"\n",
        "- Rename the Parch as \"Parents or Children\""
      ],
      "metadata": {
        "id": "cs4FEKt-ZcH9"
      }
    },
    {
      "cell_type": "code",
      "source": [
        "# Create a dictionary called rename_dict\n",
        "# with current column names as keys\n",
        "# and new replacement names as the values.\n",
        "rename_dict = {'SibSp':'Siblings or Spouses','Parch':'Parents or Children'}"
      ],
      "metadata": {
        "id": "lqj9wSk_k3ir"
      },
      "execution_count": 135,
      "outputs": []
    },
    {
      "cell_type": "code",
      "source": [
        "# Use the rename_dict to change the column names in the dataframe\n",
        "df_titanic=df_titanic.rename(columns=rename_dict)\n",
        "# Check the .head() to confirm the nams changed.\n",
        "df_titanic.head()"
      ],
      "metadata": {
        "id": "dg0nDjFnlBuc",
        "colab": {
          "base_uri": "https://localhost:8080/",
          "height": 206
        },
        "outputId": "2b8573f9-4b0d-42c8-9cb5-00a4e15f4bd2"
      },
      "execution_count": 136,
      "outputs": [
        {
          "output_type": "execute_result",
          "data": {
            "text/plain": [
              "   PassengerId  Survived  Pclass  \\\n",
              "0            1         0       3   \n",
              "1            2         1       1   \n",
              "2            3         1       3   \n",
              "3            4         1       1   \n",
              "4            5         0       3   \n",
              "\n",
              "                                                Name     Sex   Age  \\\n",
              "0                            Braund, Mr. Owen Harris    male  22.0   \n",
              "1  Cumings, Mrs. John Bradley (Florence Briggs Th...  female  38.0   \n",
              "2                             Heikkinen, Miss. Laina  female  26.0   \n",
              "3       Futrelle, Mrs. Jacques Heath (Lily May Peel)  female  35.0   \n",
              "4                           Allen, Mr. William Henry    male  35.0   \n",
              "\n",
              "   Siblings or Spouses  Parents or Children            Ticket   Fare Cabin  \\\n",
              "0                    1                    0         A/5 21171   7.25   NaN   \n",
              "1                    1                    0          PC 17599  71.28   C85   \n",
              "2                    0                    0  STON/O2. 3101282   7.93   NaN   \n",
              "3                    1                    0            113803  53.10  C123   \n",
              "4                    0                    0            373450   8.05   NaN   \n",
              "\n",
              "  Embarked  \n",
              "0        S  \n",
              "1        C  \n",
              "2        S  \n",
              "3        S  \n",
              "4        S  "
            ],
            "text/html": [
              "\n",
              "  <div id=\"df-4d2c9c36-202b-4351-a0f9-cd37b58bcf8c\">\n",
              "    <div class=\"colab-df-container\">\n",
              "      <div>\n",
              "<style scoped>\n",
              "    .dataframe tbody tr th:only-of-type {\n",
              "        vertical-align: middle;\n",
              "    }\n",
              "\n",
              "    .dataframe tbody tr th {\n",
              "        vertical-align: top;\n",
              "    }\n",
              "\n",
              "    .dataframe thead th {\n",
              "        text-align: right;\n",
              "    }\n",
              "</style>\n",
              "<table border=\"1\" class=\"dataframe\">\n",
              "  <thead>\n",
              "    <tr style=\"text-align: right;\">\n",
              "      <th></th>\n",
              "      <th>PassengerId</th>\n",
              "      <th>Survived</th>\n",
              "      <th>Pclass</th>\n",
              "      <th>Name</th>\n",
              "      <th>Sex</th>\n",
              "      <th>Age</th>\n",
              "      <th>Siblings or Spouses</th>\n",
              "      <th>Parents or Children</th>\n",
              "      <th>Ticket</th>\n",
              "      <th>Fare</th>\n",
              "      <th>Cabin</th>\n",
              "      <th>Embarked</th>\n",
              "    </tr>\n",
              "  </thead>\n",
              "  <tbody>\n",
              "    <tr>\n",
              "      <th>0</th>\n",
              "      <td>1</td>\n",
              "      <td>0</td>\n",
              "      <td>3</td>\n",
              "      <td>Braund, Mr. Owen Harris</td>\n",
              "      <td>male</td>\n",
              "      <td>22.0</td>\n",
              "      <td>1</td>\n",
              "      <td>0</td>\n",
              "      <td>A/5 21171</td>\n",
              "      <td>7.25</td>\n",
              "      <td>NaN</td>\n",
              "      <td>S</td>\n",
              "    </tr>\n",
              "    <tr>\n",
              "      <th>1</th>\n",
              "      <td>2</td>\n",
              "      <td>1</td>\n",
              "      <td>1</td>\n",
              "      <td>Cumings, Mrs. John Bradley (Florence Briggs Th...</td>\n",
              "      <td>female</td>\n",
              "      <td>38.0</td>\n",
              "      <td>1</td>\n",
              "      <td>0</td>\n",
              "      <td>PC 17599</td>\n",
              "      <td>71.28</td>\n",
              "      <td>C85</td>\n",
              "      <td>C</td>\n",
              "    </tr>\n",
              "    <tr>\n",
              "      <th>2</th>\n",
              "      <td>3</td>\n",
              "      <td>1</td>\n",
              "      <td>3</td>\n",
              "      <td>Heikkinen, Miss. Laina</td>\n",
              "      <td>female</td>\n",
              "      <td>26.0</td>\n",
              "      <td>0</td>\n",
              "      <td>0</td>\n",
              "      <td>STON/O2. 3101282</td>\n",
              "      <td>7.93</td>\n",
              "      <td>NaN</td>\n",
              "      <td>S</td>\n",
              "    </tr>\n",
              "    <tr>\n",
              "      <th>3</th>\n",
              "      <td>4</td>\n",
              "      <td>1</td>\n",
              "      <td>1</td>\n",
              "      <td>Futrelle, Mrs. Jacques Heath (Lily May Peel)</td>\n",
              "      <td>female</td>\n",
              "      <td>35.0</td>\n",
              "      <td>1</td>\n",
              "      <td>0</td>\n",
              "      <td>113803</td>\n",
              "      <td>53.10</td>\n",
              "      <td>C123</td>\n",
              "      <td>S</td>\n",
              "    </tr>\n",
              "    <tr>\n",
              "      <th>4</th>\n",
              "      <td>5</td>\n",
              "      <td>0</td>\n",
              "      <td>3</td>\n",
              "      <td>Allen, Mr. William Henry</td>\n",
              "      <td>male</td>\n",
              "      <td>35.0</td>\n",
              "      <td>0</td>\n",
              "      <td>0</td>\n",
              "      <td>373450</td>\n",
              "      <td>8.05</td>\n",
              "      <td>NaN</td>\n",
              "      <td>S</td>\n",
              "    </tr>\n",
              "  </tbody>\n",
              "</table>\n",
              "</div>\n",
              "      <button class=\"colab-df-convert\" onclick=\"convertToInteractive('df-4d2c9c36-202b-4351-a0f9-cd37b58bcf8c')\"\n",
              "              title=\"Convert this dataframe to an interactive table.\"\n",
              "              style=\"display:none;\">\n",
              "        \n",
              "  <svg xmlns=\"http://www.w3.org/2000/svg\" height=\"24px\"viewBox=\"0 0 24 24\"\n",
              "       width=\"24px\">\n",
              "    <path d=\"M0 0h24v24H0V0z\" fill=\"none\"/>\n",
              "    <path d=\"M18.56 5.44l.94 2.06.94-2.06 2.06-.94-2.06-.94-.94-2.06-.94 2.06-2.06.94zm-11 1L8.5 8.5l.94-2.06 2.06-.94-2.06-.94L8.5 2.5l-.94 2.06-2.06.94zm10 10l.94 2.06.94-2.06 2.06-.94-2.06-.94-.94-2.06-.94 2.06-2.06.94z\"/><path d=\"M17.41 7.96l-1.37-1.37c-.4-.4-.92-.59-1.43-.59-.52 0-1.04.2-1.43.59L10.3 9.45l-7.72 7.72c-.78.78-.78 2.05 0 2.83L4 21.41c.39.39.9.59 1.41.59.51 0 1.02-.2 1.41-.59l7.78-7.78 2.81-2.81c.8-.78.8-2.07 0-2.86zM5.41 20L4 18.59l7.72-7.72 1.47 1.35L5.41 20z\"/>\n",
              "  </svg>\n",
              "      </button>\n",
              "      \n",
              "  <style>\n",
              "    .colab-df-container {\n",
              "      display:flex;\n",
              "      flex-wrap:wrap;\n",
              "      gap: 12px;\n",
              "    }\n",
              "\n",
              "    .colab-df-convert {\n",
              "      background-color: #E8F0FE;\n",
              "      border: none;\n",
              "      border-radius: 50%;\n",
              "      cursor: pointer;\n",
              "      display: none;\n",
              "      fill: #1967D2;\n",
              "      height: 32px;\n",
              "      padding: 0 0 0 0;\n",
              "      width: 32px;\n",
              "    }\n",
              "\n",
              "    .colab-df-convert:hover {\n",
              "      background-color: #E2EBFA;\n",
              "      box-shadow: 0px 1px 2px rgba(60, 64, 67, 0.3), 0px 1px 3px 1px rgba(60, 64, 67, 0.15);\n",
              "      fill: #174EA6;\n",
              "    }\n",
              "\n",
              "    [theme=dark] .colab-df-convert {\n",
              "      background-color: #3B4455;\n",
              "      fill: #D2E3FC;\n",
              "    }\n",
              "\n",
              "    [theme=dark] .colab-df-convert:hover {\n",
              "      background-color: #434B5C;\n",
              "      box-shadow: 0px 1px 3px 1px rgba(0, 0, 0, 0.15);\n",
              "      filter: drop-shadow(0px 1px 2px rgba(0, 0, 0, 0.3));\n",
              "      fill: #FFFFFF;\n",
              "    }\n",
              "  </style>\n",
              "\n",
              "      <script>\n",
              "        const buttonEl =\n",
              "          document.querySelector('#df-4d2c9c36-202b-4351-a0f9-cd37b58bcf8c button.colab-df-convert');\n",
              "        buttonEl.style.display =\n",
              "          google.colab.kernel.accessAllowed ? 'block' : 'none';\n",
              "\n",
              "        async function convertToInteractive(key) {\n",
              "          const element = document.querySelector('#df-4d2c9c36-202b-4351-a0f9-cd37b58bcf8c');\n",
              "          const dataTable =\n",
              "            await google.colab.kernel.invokeFunction('convertToInteractive',\n",
              "                                                     [key], {});\n",
              "          if (!dataTable) return;\n",
              "\n",
              "          const docLinkHtml = 'Like what you see? Visit the ' +\n",
              "            '<a target=\"_blank\" href=https://colab.research.google.com/notebooks/data_table.ipynb>data table notebook</a>'\n",
              "            + ' to learn more about interactive tables.';\n",
              "          element.innerHTML = '';\n",
              "          dataTable['output_type'] = 'display_data';\n",
              "          await google.colab.output.renderOutput(dataTable, element);\n",
              "          const docLink = document.createElement('div');\n",
              "          docLink.innerHTML = docLinkHtml;\n",
              "          element.appendChild(docLink);\n",
              "        }\n",
              "      </script>\n",
              "    </div>\n",
              "  </div>\n",
              "  "
            ]
          },
          "metadata": {},
          "execution_count": 136
        }
      ]
    },
    {
      "cell_type": "markdown",
      "source": [
        "## E) Duplicate Rows"
      ],
      "metadata": {
        "id": "ZaBNjMzRo2cC"
      }
    },
    {
      "cell_type": "markdown",
      "source": [
        "### Identifying Duplicates"
      ],
      "metadata": {
        "id": "Acd0kjkTk5Ze"
      }
    },
    {
      "cell_type": "markdown",
      "source": [
        "\n",
        "- Use `df.duplicated` to identify if there are any duplicate rows in the data.\n"
      ],
      "metadata": {
        "id": "TovjTuK97H1n"
      }
    },
    {
      "cell_type": "code",
      "source": [
        "# Save a filter called \"duplicated_rows\" that identifies duplicated rows\n",
        "duplicated_rows=df_titanic.duplicated()\n",
        "\n",
        "# Get the sum of duplicated_rows filter to see the number of duplicate rows\n",
        "duplicated_rows.sum()"
      ],
      "metadata": {
        "id": "ND4i3S6wo2Ge",
        "colab": {
          "base_uri": "https://localhost:8080/"
        },
        "outputId": "fa0b5072-f723-431c-85d2-a01192b43936"
      },
      "execution_count": 137,
      "outputs": [
        {
          "output_type": "execute_result",
          "data": {
            "text/plain": [
              "15"
            ]
          },
          "metadata": {},
          "execution_count": 137
        }
      ]
    },
    {
      "cell_type": "markdown",
      "source": [
        "\n",
        "**Q: E1) How many duplicate rows are in the data?**\n",
        "- Your Answer:\n",
        "  - 15"
      ],
      "metadata": {
        "id": "9pnXXJ3wCLXL"
      }
    },
    {
      "cell_type": "markdown",
      "source": [
        "  \n",
        "- Visualize all copies of the duplicate rows using df.duplicated(keep=False).\n",
        "  - Sort the rows by the PassengerID column to view duplicate rows together."
      ],
      "metadata": {
        "id": "0urshZJz7I0A"
      }
    },
    {
      "cell_type": "code",
      "source": [
        "# Save a new filter called \"duplicated_rows_all\" that identifies ALL\n",
        "# of the duplicated rows (including the first). Hint: use the \"keep\" argument.\n",
        "duplicated_rows_all = df_titanic.duplicated(keep=False)\n",
        "# Calculate the sum of the duplicated_rows_all filter\n",
        "duplicated_rows_all.sum()"
      ],
      "metadata": {
        "id": "g0H7EGf219mK",
        "colab": {
          "base_uri": "https://localhost:8080/"
        },
        "outputId": "918e4485-d50d-40da-e5b3-78ae527e90f9"
      },
      "execution_count": 138,
      "outputs": [
        {
          "output_type": "execute_result",
          "data": {
            "text/plain": [
              "30"
            ]
          },
          "metadata": {},
          "execution_count": 138
        }
      ]
    },
    {
      "cell_type": "code",
      "source": [
        "# View all duplicated rows using your duplicated_rows_all filter\n",
        "# Sort by PassengerId\n",
        "df_titanic[duplicated_rows_all].sort_values(\"PassengerId\")"
      ],
      "metadata": {
        "id": "M8uqlb9SpWGV",
        "outputId": "2dcfcf23-113c-425c-d9b8-99b7257c6afc",
        "colab": {
          "base_uri": "https://localhost:8080/",
          "height": 990
        }
      },
      "execution_count": 139,
      "outputs": [
        {
          "output_type": "execute_result",
          "data": {
            "text/plain": [
              "     PassengerId  Survived  Pclass  \\\n",
              "77            78         0       3   \n",
              "902           78         0       3   \n",
              "337          338         1       1   \n",
              "899          338         1       1   \n",
              "362          363         0       3   \n",
              "896          363         0       3   \n",
              "447          448         1       1   \n",
              "892          448         1       1   \n",
              "464          465         0       3   \n",
              "898          465         0       3   \n",
              "573          574         1       3   \n",
              "897          574         1       3   \n",
              "895          580         1       3   \n",
              "579          580         1       3   \n",
              "622          623         1       3   \n",
              "901          623         1       3   \n",
              "904          624         0       3   \n",
              "623          624         0       3   \n",
              "894          668         0       3   \n",
              "667          668         0       3   \n",
              "903          716         0       3   \n",
              "715          716         0       3   \n",
              "724          725         1       1   \n",
              "900          725         1       1   \n",
              "891          767         0       1   \n",
              "766          767         0       1   \n",
              "893          808         0       3   \n",
              "807          808         0       3   \n",
              "888          889         0       3   \n",
              "905          889         0       3   \n",
              "\n",
              "                                           Name     Sex   Age  \\\n",
              "77                     Moutal, Mr. Rahamin Haim    male   NaN   \n",
              "902                    Moutal, Mr. Rahamin Haim    male   NaN   \n",
              "337             Burns, Miss. Elizabeth Margaret  female  41.0   \n",
              "899             Burns, Miss. Elizabeth Margaret  female  41.0   \n",
              "362             Barbara, Mrs. (Catherine David)  female  45.0   \n",
              "896             Barbara, Mrs. (Catherine David)  female  45.0   \n",
              "447                 Seward, Mr. Frederic Kimber    male  34.0   \n",
              "892                 Seward, Mr. Frederic Kimber    male  34.0   \n",
              "464                          Maisner, Mr. Simon    male   NaN   \n",
              "898                          Maisner, Mr. Simon    male   NaN   \n",
              "573                           Kelly, Miss. Mary  female   NaN   \n",
              "897                           Kelly, Miss. Mary  female   NaN   \n",
              "895                         Jussila, Mr. Eiriik    male  32.0   \n",
              "579                         Jussila, Mr. Eiriik    male  32.0   \n",
              "622                            Nakid, Mr. Sahid    male  20.0   \n",
              "901                            Nakid, Mr. Sahid    male  20.0   \n",
              "904                 Hansen, Mr. Henry Damsgaard    male  21.0   \n",
              "623                 Hansen, Mr. Henry Damsgaard    male  21.0   \n",
              "894                  Rommetvedt, Mr. Knud Paust    male   NaN   \n",
              "667                  Rommetvedt, Mr. Knud Paust    male   NaN   \n",
              "903  Soholt, Mr. Peter Andreas Lauritz Andersen    male  19.0   \n",
              "715  Soholt, Mr. Peter Andreas Lauritz Andersen    male  19.0   \n",
              "724               Chambers, Mr. Norman Campbell    male  27.0   \n",
              "900               Chambers, Mr. Norman Campbell    male  27.0   \n",
              "891                   Brewe, Dr. Arthur Jackson    male   NaN   \n",
              "766                   Brewe, Dr. Arthur Jackson    male   NaN   \n",
              "893             Pettersson, Miss. Ellen Natalia  female  18.0   \n",
              "807             Pettersson, Miss. Ellen Natalia  female  18.0   \n",
              "888    Johnston, Miss. Catherine Helen \"Carrie\"  female   NaN   \n",
              "905    Johnston, Miss. Catherine Helen \"Carrie\"  female   NaN   \n",
              "\n",
              "     Siblings or Spouses  Parents or Children             Ticket    Fare  \\\n",
              "77                     0                    0             374746    8.05   \n",
              "902                    0                    0             374746    8.05   \n",
              "337                    0                    0              16966  134.50   \n",
              "899                    0                    0              16966  134.50   \n",
              "362                    0                    1               2691   14.45   \n",
              "896                    0                    1               2691   14.45   \n",
              "447                    0                    0             113794   26.55   \n",
              "892                    0                    0             113794   26.55   \n",
              "464                    0                    0           A/S 2816    8.05   \n",
              "898                    0                    0           A/S 2816    8.05   \n",
              "573                    0                    0              14312    7.75   \n",
              "897                    0                    0              14312    7.75   \n",
              "895                    0                    0  STON/O 2. 3101286    7.93   \n",
              "579                    0                    0  STON/O 2. 3101286    7.93   \n",
              "622                    1                    1               2653   15.74   \n",
              "901                    1                    1               2653   15.74   \n",
              "904                    0                    0             350029    7.85   \n",
              "623                    0                    0             350029    7.85   \n",
              "894                    0                    0             312993    7.78   \n",
              "667                    0                    0             312993    7.78   \n",
              "903                    0                    0             348124    7.65   \n",
              "715                    0                    0             348124    7.65   \n",
              "724                    1                    0             113806   53.10   \n",
              "900                    1                    0             113806   53.10   \n",
              "891                    0                    0             112379   39.60   \n",
              "766                    0                    0             112379   39.60   \n",
              "893                    0                    0             347087    7.78   \n",
              "807                    0                    0             347087    7.78   \n",
              "888                    1                    2         W./C. 6607   23.45   \n",
              "905                    1                    2         W./C. 6607   23.45   \n",
              "\n",
              "     Cabin Embarked  \n",
              "77     NaN        S  \n",
              "902    NaN        S  \n",
              "337    E40        C  \n",
              "899    E40        C  \n",
              "362    NaN        C  \n",
              "896    NaN        C  \n",
              "447    NaN        S  \n",
              "892    NaN        S  \n",
              "464    NaN        S  \n",
              "898    NaN        S  \n",
              "573    NaN        Q  \n",
              "897    NaN        Q  \n",
              "895    NaN        S  \n",
              "579    NaN        S  \n",
              "622    NaN        C  \n",
              "901    NaN        C  \n",
              "904    NaN        S  \n",
              "623    NaN        S  \n",
              "894    NaN        S  \n",
              "667    NaN        S  \n",
              "903  F G73        S  \n",
              "715  F G73        S  \n",
              "724     E8        S  \n",
              "900     E8        S  \n",
              "891    NaN        C  \n",
              "766    NaN        C  \n",
              "893    NaN        S  \n",
              "807    NaN        S  \n",
              "888    NaN        S  \n",
              "905    NaN        S  "
            ],
            "text/html": [
              "\n",
              "  <div id=\"df-895fa4d8-40e4-4cef-bfd0-e3498f9dc8a1\">\n",
              "    <div class=\"colab-df-container\">\n",
              "      <div>\n",
              "<style scoped>\n",
              "    .dataframe tbody tr th:only-of-type {\n",
              "        vertical-align: middle;\n",
              "    }\n",
              "\n",
              "    .dataframe tbody tr th {\n",
              "        vertical-align: top;\n",
              "    }\n",
              "\n",
              "    .dataframe thead th {\n",
              "        text-align: right;\n",
              "    }\n",
              "</style>\n",
              "<table border=\"1\" class=\"dataframe\">\n",
              "  <thead>\n",
              "    <tr style=\"text-align: right;\">\n",
              "      <th></th>\n",
              "      <th>PassengerId</th>\n",
              "      <th>Survived</th>\n",
              "      <th>Pclass</th>\n",
              "      <th>Name</th>\n",
              "      <th>Sex</th>\n",
              "      <th>Age</th>\n",
              "      <th>Siblings or Spouses</th>\n",
              "      <th>Parents or Children</th>\n",
              "      <th>Ticket</th>\n",
              "      <th>Fare</th>\n",
              "      <th>Cabin</th>\n",
              "      <th>Embarked</th>\n",
              "    </tr>\n",
              "  </thead>\n",
              "  <tbody>\n",
              "    <tr>\n",
              "      <th>77</th>\n",
              "      <td>78</td>\n",
              "      <td>0</td>\n",
              "      <td>3</td>\n",
              "      <td>Moutal, Mr. Rahamin Haim</td>\n",
              "      <td>male</td>\n",
              "      <td>NaN</td>\n",
              "      <td>0</td>\n",
              "      <td>0</td>\n",
              "      <td>374746</td>\n",
              "      <td>8.05</td>\n",
              "      <td>NaN</td>\n",
              "      <td>S</td>\n",
              "    </tr>\n",
              "    <tr>\n",
              "      <th>902</th>\n",
              "      <td>78</td>\n",
              "      <td>0</td>\n",
              "      <td>3</td>\n",
              "      <td>Moutal, Mr. Rahamin Haim</td>\n",
              "      <td>male</td>\n",
              "      <td>NaN</td>\n",
              "      <td>0</td>\n",
              "      <td>0</td>\n",
              "      <td>374746</td>\n",
              "      <td>8.05</td>\n",
              "      <td>NaN</td>\n",
              "      <td>S</td>\n",
              "    </tr>\n",
              "    <tr>\n",
              "      <th>337</th>\n",
              "      <td>338</td>\n",
              "      <td>1</td>\n",
              "      <td>1</td>\n",
              "      <td>Burns, Miss. Elizabeth Margaret</td>\n",
              "      <td>female</td>\n",
              "      <td>41.0</td>\n",
              "      <td>0</td>\n",
              "      <td>0</td>\n",
              "      <td>16966</td>\n",
              "      <td>134.50</td>\n",
              "      <td>E40</td>\n",
              "      <td>C</td>\n",
              "    </tr>\n",
              "    <tr>\n",
              "      <th>899</th>\n",
              "      <td>338</td>\n",
              "      <td>1</td>\n",
              "      <td>1</td>\n",
              "      <td>Burns, Miss. Elizabeth Margaret</td>\n",
              "      <td>female</td>\n",
              "      <td>41.0</td>\n",
              "      <td>0</td>\n",
              "      <td>0</td>\n",
              "      <td>16966</td>\n",
              "      <td>134.50</td>\n",
              "      <td>E40</td>\n",
              "      <td>C</td>\n",
              "    </tr>\n",
              "    <tr>\n",
              "      <th>362</th>\n",
              "      <td>363</td>\n",
              "      <td>0</td>\n",
              "      <td>3</td>\n",
              "      <td>Barbara, Mrs. (Catherine David)</td>\n",
              "      <td>female</td>\n",
              "      <td>45.0</td>\n",
              "      <td>0</td>\n",
              "      <td>1</td>\n",
              "      <td>2691</td>\n",
              "      <td>14.45</td>\n",
              "      <td>NaN</td>\n",
              "      <td>C</td>\n",
              "    </tr>\n",
              "    <tr>\n",
              "      <th>896</th>\n",
              "      <td>363</td>\n",
              "      <td>0</td>\n",
              "      <td>3</td>\n",
              "      <td>Barbara, Mrs. (Catherine David)</td>\n",
              "      <td>female</td>\n",
              "      <td>45.0</td>\n",
              "      <td>0</td>\n",
              "      <td>1</td>\n",
              "      <td>2691</td>\n",
              "      <td>14.45</td>\n",
              "      <td>NaN</td>\n",
              "      <td>C</td>\n",
              "    </tr>\n",
              "    <tr>\n",
              "      <th>447</th>\n",
              "      <td>448</td>\n",
              "      <td>1</td>\n",
              "      <td>1</td>\n",
              "      <td>Seward, Mr. Frederic Kimber</td>\n",
              "      <td>male</td>\n",
              "      <td>34.0</td>\n",
              "      <td>0</td>\n",
              "      <td>0</td>\n",
              "      <td>113794</td>\n",
              "      <td>26.55</td>\n",
              "      <td>NaN</td>\n",
              "      <td>S</td>\n",
              "    </tr>\n",
              "    <tr>\n",
              "      <th>892</th>\n",
              "      <td>448</td>\n",
              "      <td>1</td>\n",
              "      <td>1</td>\n",
              "      <td>Seward, Mr. Frederic Kimber</td>\n",
              "      <td>male</td>\n",
              "      <td>34.0</td>\n",
              "      <td>0</td>\n",
              "      <td>0</td>\n",
              "      <td>113794</td>\n",
              "      <td>26.55</td>\n",
              "      <td>NaN</td>\n",
              "      <td>S</td>\n",
              "    </tr>\n",
              "    <tr>\n",
              "      <th>464</th>\n",
              "      <td>465</td>\n",
              "      <td>0</td>\n",
              "      <td>3</td>\n",
              "      <td>Maisner, Mr. Simon</td>\n",
              "      <td>male</td>\n",
              "      <td>NaN</td>\n",
              "      <td>0</td>\n",
              "      <td>0</td>\n",
              "      <td>A/S 2816</td>\n",
              "      <td>8.05</td>\n",
              "      <td>NaN</td>\n",
              "      <td>S</td>\n",
              "    </tr>\n",
              "    <tr>\n",
              "      <th>898</th>\n",
              "      <td>465</td>\n",
              "      <td>0</td>\n",
              "      <td>3</td>\n",
              "      <td>Maisner, Mr. Simon</td>\n",
              "      <td>male</td>\n",
              "      <td>NaN</td>\n",
              "      <td>0</td>\n",
              "      <td>0</td>\n",
              "      <td>A/S 2816</td>\n",
              "      <td>8.05</td>\n",
              "      <td>NaN</td>\n",
              "      <td>S</td>\n",
              "    </tr>\n",
              "    <tr>\n",
              "      <th>573</th>\n",
              "      <td>574</td>\n",
              "      <td>1</td>\n",
              "      <td>3</td>\n",
              "      <td>Kelly, Miss. Mary</td>\n",
              "      <td>female</td>\n",
              "      <td>NaN</td>\n",
              "      <td>0</td>\n",
              "      <td>0</td>\n",
              "      <td>14312</td>\n",
              "      <td>7.75</td>\n",
              "      <td>NaN</td>\n",
              "      <td>Q</td>\n",
              "    </tr>\n",
              "    <tr>\n",
              "      <th>897</th>\n",
              "      <td>574</td>\n",
              "      <td>1</td>\n",
              "      <td>3</td>\n",
              "      <td>Kelly, Miss. Mary</td>\n",
              "      <td>female</td>\n",
              "      <td>NaN</td>\n",
              "      <td>0</td>\n",
              "      <td>0</td>\n",
              "      <td>14312</td>\n",
              "      <td>7.75</td>\n",
              "      <td>NaN</td>\n",
              "      <td>Q</td>\n",
              "    </tr>\n",
              "    <tr>\n",
              "      <th>895</th>\n",
              "      <td>580</td>\n",
              "      <td>1</td>\n",
              "      <td>3</td>\n",
              "      <td>Jussila, Mr. Eiriik</td>\n",
              "      <td>male</td>\n",
              "      <td>32.0</td>\n",
              "      <td>0</td>\n",
              "      <td>0</td>\n",
              "      <td>STON/O 2. 3101286</td>\n",
              "      <td>7.93</td>\n",
              "      <td>NaN</td>\n",
              "      <td>S</td>\n",
              "    </tr>\n",
              "    <tr>\n",
              "      <th>579</th>\n",
              "      <td>580</td>\n",
              "      <td>1</td>\n",
              "      <td>3</td>\n",
              "      <td>Jussila, Mr. Eiriik</td>\n",
              "      <td>male</td>\n",
              "      <td>32.0</td>\n",
              "      <td>0</td>\n",
              "      <td>0</td>\n",
              "      <td>STON/O 2. 3101286</td>\n",
              "      <td>7.93</td>\n",
              "      <td>NaN</td>\n",
              "      <td>S</td>\n",
              "    </tr>\n",
              "    <tr>\n",
              "      <th>622</th>\n",
              "      <td>623</td>\n",
              "      <td>1</td>\n",
              "      <td>3</td>\n",
              "      <td>Nakid, Mr. Sahid</td>\n",
              "      <td>male</td>\n",
              "      <td>20.0</td>\n",
              "      <td>1</td>\n",
              "      <td>1</td>\n",
              "      <td>2653</td>\n",
              "      <td>15.74</td>\n",
              "      <td>NaN</td>\n",
              "      <td>C</td>\n",
              "    </tr>\n",
              "    <tr>\n",
              "      <th>901</th>\n",
              "      <td>623</td>\n",
              "      <td>1</td>\n",
              "      <td>3</td>\n",
              "      <td>Nakid, Mr. Sahid</td>\n",
              "      <td>male</td>\n",
              "      <td>20.0</td>\n",
              "      <td>1</td>\n",
              "      <td>1</td>\n",
              "      <td>2653</td>\n",
              "      <td>15.74</td>\n",
              "      <td>NaN</td>\n",
              "      <td>C</td>\n",
              "    </tr>\n",
              "    <tr>\n",
              "      <th>904</th>\n",
              "      <td>624</td>\n",
              "      <td>0</td>\n",
              "      <td>3</td>\n",
              "      <td>Hansen, Mr. Henry Damsgaard</td>\n",
              "      <td>male</td>\n",
              "      <td>21.0</td>\n",
              "      <td>0</td>\n",
              "      <td>0</td>\n",
              "      <td>350029</td>\n",
              "      <td>7.85</td>\n",
              "      <td>NaN</td>\n",
              "      <td>S</td>\n",
              "    </tr>\n",
              "    <tr>\n",
              "      <th>623</th>\n",
              "      <td>624</td>\n",
              "      <td>0</td>\n",
              "      <td>3</td>\n",
              "      <td>Hansen, Mr. Henry Damsgaard</td>\n",
              "      <td>male</td>\n",
              "      <td>21.0</td>\n",
              "      <td>0</td>\n",
              "      <td>0</td>\n",
              "      <td>350029</td>\n",
              "      <td>7.85</td>\n",
              "      <td>NaN</td>\n",
              "      <td>S</td>\n",
              "    </tr>\n",
              "    <tr>\n",
              "      <th>894</th>\n",
              "      <td>668</td>\n",
              "      <td>0</td>\n",
              "      <td>3</td>\n",
              "      <td>Rommetvedt, Mr. Knud Paust</td>\n",
              "      <td>male</td>\n",
              "      <td>NaN</td>\n",
              "      <td>0</td>\n",
              "      <td>0</td>\n",
              "      <td>312993</td>\n",
              "      <td>7.78</td>\n",
              "      <td>NaN</td>\n",
              "      <td>S</td>\n",
              "    </tr>\n",
              "    <tr>\n",
              "      <th>667</th>\n",
              "      <td>668</td>\n",
              "      <td>0</td>\n",
              "      <td>3</td>\n",
              "      <td>Rommetvedt, Mr. Knud Paust</td>\n",
              "      <td>male</td>\n",
              "      <td>NaN</td>\n",
              "      <td>0</td>\n",
              "      <td>0</td>\n",
              "      <td>312993</td>\n",
              "      <td>7.78</td>\n",
              "      <td>NaN</td>\n",
              "      <td>S</td>\n",
              "    </tr>\n",
              "    <tr>\n",
              "      <th>903</th>\n",
              "      <td>716</td>\n",
              "      <td>0</td>\n",
              "      <td>3</td>\n",
              "      <td>Soholt, Mr. Peter Andreas Lauritz Andersen</td>\n",
              "      <td>male</td>\n",
              "      <td>19.0</td>\n",
              "      <td>0</td>\n",
              "      <td>0</td>\n",
              "      <td>348124</td>\n",
              "      <td>7.65</td>\n",
              "      <td>F G73</td>\n",
              "      <td>S</td>\n",
              "    </tr>\n",
              "    <tr>\n",
              "      <th>715</th>\n",
              "      <td>716</td>\n",
              "      <td>0</td>\n",
              "      <td>3</td>\n",
              "      <td>Soholt, Mr. Peter Andreas Lauritz Andersen</td>\n",
              "      <td>male</td>\n",
              "      <td>19.0</td>\n",
              "      <td>0</td>\n",
              "      <td>0</td>\n",
              "      <td>348124</td>\n",
              "      <td>7.65</td>\n",
              "      <td>F G73</td>\n",
              "      <td>S</td>\n",
              "    </tr>\n",
              "    <tr>\n",
              "      <th>724</th>\n",
              "      <td>725</td>\n",
              "      <td>1</td>\n",
              "      <td>1</td>\n",
              "      <td>Chambers, Mr. Norman Campbell</td>\n",
              "      <td>male</td>\n",
              "      <td>27.0</td>\n",
              "      <td>1</td>\n",
              "      <td>0</td>\n",
              "      <td>113806</td>\n",
              "      <td>53.10</td>\n",
              "      <td>E8</td>\n",
              "      <td>S</td>\n",
              "    </tr>\n",
              "    <tr>\n",
              "      <th>900</th>\n",
              "      <td>725</td>\n",
              "      <td>1</td>\n",
              "      <td>1</td>\n",
              "      <td>Chambers, Mr. Norman Campbell</td>\n",
              "      <td>male</td>\n",
              "      <td>27.0</td>\n",
              "      <td>1</td>\n",
              "      <td>0</td>\n",
              "      <td>113806</td>\n",
              "      <td>53.10</td>\n",
              "      <td>E8</td>\n",
              "      <td>S</td>\n",
              "    </tr>\n",
              "    <tr>\n",
              "      <th>891</th>\n",
              "      <td>767</td>\n",
              "      <td>0</td>\n",
              "      <td>1</td>\n",
              "      <td>Brewe, Dr. Arthur Jackson</td>\n",
              "      <td>male</td>\n",
              "      <td>NaN</td>\n",
              "      <td>0</td>\n",
              "      <td>0</td>\n",
              "      <td>112379</td>\n",
              "      <td>39.60</td>\n",
              "      <td>NaN</td>\n",
              "      <td>C</td>\n",
              "    </tr>\n",
              "    <tr>\n",
              "      <th>766</th>\n",
              "      <td>767</td>\n",
              "      <td>0</td>\n",
              "      <td>1</td>\n",
              "      <td>Brewe, Dr. Arthur Jackson</td>\n",
              "      <td>male</td>\n",
              "      <td>NaN</td>\n",
              "      <td>0</td>\n",
              "      <td>0</td>\n",
              "      <td>112379</td>\n",
              "      <td>39.60</td>\n",
              "      <td>NaN</td>\n",
              "      <td>C</td>\n",
              "    </tr>\n",
              "    <tr>\n",
              "      <th>893</th>\n",
              "      <td>808</td>\n",
              "      <td>0</td>\n",
              "      <td>3</td>\n",
              "      <td>Pettersson, Miss. Ellen Natalia</td>\n",
              "      <td>female</td>\n",
              "      <td>18.0</td>\n",
              "      <td>0</td>\n",
              "      <td>0</td>\n",
              "      <td>347087</td>\n",
              "      <td>7.78</td>\n",
              "      <td>NaN</td>\n",
              "      <td>S</td>\n",
              "    </tr>\n",
              "    <tr>\n",
              "      <th>807</th>\n",
              "      <td>808</td>\n",
              "      <td>0</td>\n",
              "      <td>3</td>\n",
              "      <td>Pettersson, Miss. Ellen Natalia</td>\n",
              "      <td>female</td>\n",
              "      <td>18.0</td>\n",
              "      <td>0</td>\n",
              "      <td>0</td>\n",
              "      <td>347087</td>\n",
              "      <td>7.78</td>\n",
              "      <td>NaN</td>\n",
              "      <td>S</td>\n",
              "    </tr>\n",
              "    <tr>\n",
              "      <th>888</th>\n",
              "      <td>889</td>\n",
              "      <td>0</td>\n",
              "      <td>3</td>\n",
              "      <td>Johnston, Miss. Catherine Helen \"Carrie\"</td>\n",
              "      <td>female</td>\n",
              "      <td>NaN</td>\n",
              "      <td>1</td>\n",
              "      <td>2</td>\n",
              "      <td>W./C. 6607</td>\n",
              "      <td>23.45</td>\n",
              "      <td>NaN</td>\n",
              "      <td>S</td>\n",
              "    </tr>\n",
              "    <tr>\n",
              "      <th>905</th>\n",
              "      <td>889</td>\n",
              "      <td>0</td>\n",
              "      <td>3</td>\n",
              "      <td>Johnston, Miss. Catherine Helen \"Carrie\"</td>\n",
              "      <td>female</td>\n",
              "      <td>NaN</td>\n",
              "      <td>1</td>\n",
              "      <td>2</td>\n",
              "      <td>W./C. 6607</td>\n",
              "      <td>23.45</td>\n",
              "      <td>NaN</td>\n",
              "      <td>S</td>\n",
              "    </tr>\n",
              "  </tbody>\n",
              "</table>\n",
              "</div>\n",
              "      <button class=\"colab-df-convert\" onclick=\"convertToInteractive('df-895fa4d8-40e4-4cef-bfd0-e3498f9dc8a1')\"\n",
              "              title=\"Convert this dataframe to an interactive table.\"\n",
              "              style=\"display:none;\">\n",
              "        \n",
              "  <svg xmlns=\"http://www.w3.org/2000/svg\" height=\"24px\"viewBox=\"0 0 24 24\"\n",
              "       width=\"24px\">\n",
              "    <path d=\"M0 0h24v24H0V0z\" fill=\"none\"/>\n",
              "    <path d=\"M18.56 5.44l.94 2.06.94-2.06 2.06-.94-2.06-.94-.94-2.06-.94 2.06-2.06.94zm-11 1L8.5 8.5l.94-2.06 2.06-.94-2.06-.94L8.5 2.5l-.94 2.06-2.06.94zm10 10l.94 2.06.94-2.06 2.06-.94-2.06-.94-.94-2.06-.94 2.06-2.06.94z\"/><path d=\"M17.41 7.96l-1.37-1.37c-.4-.4-.92-.59-1.43-.59-.52 0-1.04.2-1.43.59L10.3 9.45l-7.72 7.72c-.78.78-.78 2.05 0 2.83L4 21.41c.39.39.9.59 1.41.59.51 0 1.02-.2 1.41-.59l7.78-7.78 2.81-2.81c.8-.78.8-2.07 0-2.86zM5.41 20L4 18.59l7.72-7.72 1.47 1.35L5.41 20z\"/>\n",
              "  </svg>\n",
              "      </button>\n",
              "      \n",
              "  <style>\n",
              "    .colab-df-container {\n",
              "      display:flex;\n",
              "      flex-wrap:wrap;\n",
              "      gap: 12px;\n",
              "    }\n",
              "\n",
              "    .colab-df-convert {\n",
              "      background-color: #E8F0FE;\n",
              "      border: none;\n",
              "      border-radius: 50%;\n",
              "      cursor: pointer;\n",
              "      display: none;\n",
              "      fill: #1967D2;\n",
              "      height: 32px;\n",
              "      padding: 0 0 0 0;\n",
              "      width: 32px;\n",
              "    }\n",
              "\n",
              "    .colab-df-convert:hover {\n",
              "      background-color: #E2EBFA;\n",
              "      box-shadow: 0px 1px 2px rgba(60, 64, 67, 0.3), 0px 1px 3px 1px rgba(60, 64, 67, 0.15);\n",
              "      fill: #174EA6;\n",
              "    }\n",
              "\n",
              "    [theme=dark] .colab-df-convert {\n",
              "      background-color: #3B4455;\n",
              "      fill: #D2E3FC;\n",
              "    }\n",
              "\n",
              "    [theme=dark] .colab-df-convert:hover {\n",
              "      background-color: #434B5C;\n",
              "      box-shadow: 0px 1px 3px 1px rgba(0, 0, 0, 0.15);\n",
              "      filter: drop-shadow(0px 1px 2px rgba(0, 0, 0, 0.3));\n",
              "      fill: #FFFFFF;\n",
              "    }\n",
              "  </style>\n",
              "\n",
              "      <script>\n",
              "        const buttonEl =\n",
              "          document.querySelector('#df-895fa4d8-40e4-4cef-bfd0-e3498f9dc8a1 button.colab-df-convert');\n",
              "        buttonEl.style.display =\n",
              "          google.colab.kernel.accessAllowed ? 'block' : 'none';\n",
              "\n",
              "        async function convertToInteractive(key) {\n",
              "          const element = document.querySelector('#df-895fa4d8-40e4-4cef-bfd0-e3498f9dc8a1');\n",
              "          const dataTable =\n",
              "            await google.colab.kernel.invokeFunction('convertToInteractive',\n",
              "                                                     [key], {});\n",
              "          if (!dataTable) return;\n",
              "\n",
              "          const docLinkHtml = 'Like what you see? Visit the ' +\n",
              "            '<a target=\"_blank\" href=https://colab.research.google.com/notebooks/data_table.ipynb>data table notebook</a>'\n",
              "            + ' to learn more about interactive tables.';\n",
              "          element.innerHTML = '';\n",
              "          dataTable['output_type'] = 'display_data';\n",
              "          await google.colab.output.renderOutput(dataTable, element);\n",
              "          const docLink = document.createElement('div');\n",
              "          docLink.innerHTML = docLinkHtml;\n",
              "          element.appendChild(docLink);\n",
              "        }\n",
              "      </script>\n",
              "    </div>\n",
              "  </div>\n",
              "  "
            ]
          },
          "metadata": {},
          "execution_count": 139
        }
      ]
    },
    {
      "cell_type": "code",
      "source": [
        "# Drop duplicates (but keep the first!)\n",
        "df_titanic = df_titanic.drop_duplicates(keep=False)\n",
        "#Obtain the sum of duplicated to confirm all have been dropped\n",
        "df_titanic.duplicated().sum()"
      ],
      "metadata": {
        "id": "Hu7Q0QBBrZ6-",
        "colab": {
          "base_uri": "https://localhost:8080/"
        },
        "outputId": "60da4d59-8ed0-43b3-d9fd-229cef2b0051"
      },
      "execution_count": 140,
      "outputs": [
        {
          "output_type": "execute_result",
          "data": {
            "text/plain": [
              "0"
            ]
          },
          "metadata": {},
          "execution_count": 140
        }
      ]
    },
    {
      "cell_type": "markdown",
      "source": [
        "## F) Unique Identifiers\n",
        "- Find and Drop Columns with Unique Values for Every Row."
      ],
      "metadata": {
        "id": "-sRW92--vM9d"
      }
    },
    {
      "cell_type": "code",
      "source": [
        "# Use .nunqiue() to get # of unique values for each column and save as a variable.\n",
        "df_titanic.nunique()"
      ],
      "metadata": {
        "id": "tckYwylSrnfv",
        "outputId": "3baa2422-f2b0-49b1-f252-8f8245818c26",
        "colab": {
          "base_uri": "https://localhost:8080/"
        }
      },
      "execution_count": 141,
      "outputs": [
        {
          "output_type": "execute_result",
          "data": {
            "text/plain": [
              "PassengerId            876\n",
              "Survived                 2\n",
              "Pclass                   3\n",
              "Name                   876\n",
              "Sex                      3\n",
              "Age                     88\n",
              "Siblings or Spouses      7\n",
              "Parents or Children      7\n",
              "Ticket                 671\n",
              "Fare                   234\n",
              "Cabin                  146\n",
              "Embarked                 4\n",
              "dtype: int64"
            ]
          },
          "metadata": {},
          "execution_count": 141
        }
      ]
    },
    {
      "cell_type": "code",
      "source": [
        "# Use the result to determine if any of the columns have 100% unique values.\n",
        "#print(unique_columns)\n",
        "df_titanic.nunique() / len(df_titanic) * 100"
      ],
      "metadata": {
        "id": "T8AYpVW_sLwi",
        "colab": {
          "base_uri": "https://localhost:8080/"
        },
        "outputId": "e3221cf4-6482-4209-f360-956351b2c1ed"
      },
      "execution_count": 142,
      "outputs": [
        {
          "output_type": "execute_result",
          "data": {
            "text/plain": [
              "PassengerId            100.000000\n",
              "Survived                 0.228311\n",
              "Pclass                   0.342466\n",
              "Name                   100.000000\n",
              "Sex                      0.342466\n",
              "Age                     10.045662\n",
              "Siblings or Spouses      0.799087\n",
              "Parents or Children      0.799087\n",
              "Ticket                  76.598174\n",
              "Fare                    26.712329\n",
              "Cabin                   16.666667\n",
              "Embarked                 0.456621\n",
              "dtype: float64"
            ]
          },
          "metadata": {},
          "execution_count": 142
        }
      ]
    },
    {
      "cell_type": "markdown",
      "source": [
        "**Q: F1) Which 2 features have 100% unique values in every row?**\n",
        "- Your Answer:\n",
        "  - Column 1: PassengerId\n",
        "  - Column 2: Name\n",
        "\n"
      ],
      "metadata": {
        "id": "dY46t6uLwkLK"
      }
    },
    {
      "cell_type": "markdown",
      "source": [
        "\n",
        ">Generally, a column that is NOT the index, and has a unique value for each row will not be helpful for analysis and should be dropped from the data.\n",
        "\n",
        "- Inspect the two columns with 100% unique values:\n"
      ],
      "metadata": {
        "id": "AjlG5kS5wloA"
      }
    },
    {
      "cell_type": "code",
      "source": [
        "# Slice the two columns with 100% unique values to view\n",
        "unique_columns = ['Siblings or Spouses', 'Parents or Children']\n",
        "unique_values_df = df_titanic[unique_columns]\n",
        "print(unique_values_df)"
      ],
      "metadata": {
        "id": "e3ufz9Ja8E-A",
        "colab": {
          "base_uri": "https://localhost:8080/"
        },
        "outputId": "dabd380e-17d8-4ccb-a3f1-6a9a7bb84946"
      },
      "execution_count": 143,
      "outputs": [
        {
          "output_type": "stream",
          "name": "stdout",
          "text": [
            "     Siblings or Spouses  Parents or Children\n",
            "0                      1                    0\n",
            "1                      1                    0\n",
            "2                      0                    0\n",
            "3                      1                    0\n",
            "4                      0                    0\n",
            "..                   ...                  ...\n",
            "885                    0                    5\n",
            "886                    0                    0\n",
            "887                    0                    0\n",
            "889                    0                    0\n",
            "890                    0                    0\n",
            "\n",
            "[876 rows x 2 columns]\n"
          ]
        }
      ]
    },
    {
      "cell_type": "markdown",
      "source": [
        "\n",
        "- **Of the two columns with 100% unique values:**\n",
        "  - Set the numeric column as the DataFrame's index.\n",
        "  - Drop the string column from the DataFrame.\n"
      ],
      "metadata": {
        "id": "UJKNjv2s8C4-"
      }
    },
    {
      "cell_type": "code",
      "source": [
        "# Set the numeric column as the DataFrame's index.\n",
        "#df_titanic.set_index('PassengerId', inplace=True)\n",
        "df_titanic.columns"
      ],
      "metadata": {
        "id": "o9CdeowaPKBr",
        "colab": {
          "base_uri": "https://localhost:8080/"
        },
        "outputId": "11c3c742-50fb-4bc1-8c37-a637945d03bd"
      },
      "execution_count": 144,
      "outputs": [
        {
          "output_type": "execute_result",
          "data": {
            "text/plain": [
              "Index(['PassengerId', 'Survived', 'Pclass', 'Name', 'Sex', 'Age',\n",
              "       'Siblings or Spouses', 'Parents or Children', 'Ticket', 'Fare', 'Cabin',\n",
              "       'Embarked'],\n",
              "      dtype='object')"
            ]
          },
          "metadata": {},
          "execution_count": 144
        }
      ]
    },
    {
      "cell_type": "code",
      "source": [
        "# Drop the string column from the DataFrame.\n",
        "df_titanic = df_titanic.drop('Name', axis=1)"
      ],
      "metadata": {
        "id": "qWFEp-0mIJPS"
      },
      "execution_count": 145,
      "outputs": []
    },
    {
      "cell_type": "code",
      "source": [
        "#Just printing to see name columns existance\n",
        "df_titanic.columns"
      ],
      "metadata": {
        "colab": {
          "base_uri": "https://localhost:8080/"
        },
        "id": "qBY5AjloMObv",
        "outputId": "c4179bf9-7a01-4b46-9c29-dac1120f59e2"
      },
      "execution_count": 146,
      "outputs": [
        {
          "output_type": "execute_result",
          "data": {
            "text/plain": [
              "Index(['PassengerId', 'Survived', 'Pclass', 'Sex', 'Age',\n",
              "       'Siblings or Spouses', 'Parents or Children', 'Ticket', 'Fare', 'Cabin',\n",
              "       'Embarked'],\n",
              "      dtype='object')"
            ]
          },
          "metadata": {},
          "execution_count": 146
        }
      ]
    },
    {
      "cell_type": "markdown",
      "source": [
        "___"
      ],
      "metadata": {
        "id": "nJhExoQOngnU"
      }
    },
    {
      "cell_type": "markdown",
      "source": [
        "## G) Missing Values"
      ],
      "metadata": {
        "id": "ALkAT9sjg4Ki"
      }
    },
    {
      "cell_type": "code",
      "source": [
        "# Get the number of null values for all columns and save as a variable\n",
        "null_values_count = df_titanic.isnull().sum()"
      ],
      "metadata": {
        "id": "U-4SuxM_8zpR"
      },
      "execution_count": 147,
      "outputs": []
    },
    {
      "cell_type": "code",
      "source": [
        "# Use this result to calculate the percentage of null values for each column.\n",
        "null_percentages = (null_values_count / len(df_titanic)) * 100\n",
        "print(null_percentages)"
      ],
      "metadata": {
        "id": "qiuyojKC9CSj",
        "colab": {
          "base_uri": "https://localhost:8080/"
        },
        "outputId": "b8c7087b-af37-4c0b-8242-b5c6df071e54"
      },
      "execution_count": 148,
      "outputs": [
        {
          "output_type": "stream",
          "name": "stdout",
          "text": [
            "PassengerId             0.000000\n",
            "Survived                0.000000\n",
            "Pclass                  0.000000\n",
            "Sex                     0.000000\n",
            "Age                    19.520548\n",
            "Siblings or Spouses     0.000000\n",
            "Parents or Children     0.000000\n",
            "Ticket                  0.000000\n",
            "Fare                    0.000000\n",
            "Cabin                  77.054795\n",
            "Embarked                0.228311\n",
            "dtype: float64\n"
          ]
        }
      ]
    },
    {
      "cell_type": "code",
      "source": [
        "#Visualize the missing values using the missingno package's matrix plot.\n",
        "import missingno as msno\n",
        "msno.matrix(df_titanic)\n"
      ],
      "metadata": {
        "colab": {
          "base_uri": "https://localhost:8080/",
          "height": 714
        },
        "id": "9qpGB2C1PU1C",
        "outputId": "262dc49c-1a78-4517-9318-a1f9145f8542"
      },
      "execution_count": 149,
      "outputs": [
        {
          "output_type": "execute_result",
          "data": {
            "text/plain": [
              "<Axes: >"
            ]
          },
          "metadata": {},
          "execution_count": 149
        },
        {
          "output_type": "display_data",
          "data": {
            "text/plain": [
              "<Figure size 2500x1000 with 2 Axes>"
            ],
            "image/png": "[encoded data removed]"
          },
          "metadata": {}
        }
      ]
    },
    {
      "cell_type": "markdown",
      "source": [
        "#### Address the null values:\n",
        "\n",
        "- Fill the null values in categorical columns with a placeholder category called MISSING.\n"
      ],
      "metadata": {
        "id": "fOFhPHaP9uEI"
      }
    },
    {
      "cell_type": "code",
      "source": [
        "# save list of categorical column name. (Hint: select_dtypes)\n",
        "categorical_columns = df_titanic.select_dtypes(include='object').columns.tolist()\n",
        "print(categorical_columns)"
      ],
      "metadata": {
        "id": "wHMxb7Dn9t5M",
        "colab": {
          "base_uri": "https://localhost:8080/"
        },
        "outputId": "6b866ef3-2f80-4392-b047-a6d5ced9c2a5"
      },
      "execution_count": 150,
      "outputs": [
        {
          "output_type": "stream",
          "name": "stdout",
          "text": [
            "['Sex', 'Ticket', 'Cabin', 'Embarked']\n"
          ]
        }
      ]
    },
    {
      "cell_type": "code",
      "source": [
        "# use the list of cat columns to fill null values with MISSING\n",
        "df_titanic[categorical_columns] = df_titanic[categorical_columns].fillna('MISSING')\n",
        "print(df_titanic)"
      ],
      "metadata": {
        "id": "9KPnBQXo985l",
        "colab": {
          "base_uri": "https://localhost:8080/"
        },
        "outputId": "6ab3959d-530a-438e-ddcb-42c8d3f04315"
      },
      "execution_count": 151,
      "outputs": [
        {
          "output_type": "stream",
          "name": "stdout",
          "text": [
            "     PassengerId  Survived  Pclass     Sex   Age  Siblings or Spouses  \\\n",
            "0              1         0       3    male  22.0                    1   \n",
            "1              2         1       1  female  38.0                    1   \n",
            "2              3         1       3  female  26.0                    0   \n",
            "3              4         1       1  female  35.0                    1   \n",
            "4              5         0       3    male  35.0                    0   \n",
            "..           ...       ...     ...     ...   ...                  ...   \n",
            "885          886         0       3  female  39.0                    0   \n",
            "886          887         0       2    male  27.0                    0   \n",
            "887          888         1       1  female  19.0                    0   \n",
            "889          890         1       1    male  26.0                    0   \n",
            "890          891         0       3    male  32.0                    0   \n",
            "\n",
            "     Parents or Children            Ticket   Fare    Cabin Embarked  \n",
            "0                      0         A/5 21171   7.25  MISSING        S  \n",
            "1                      0          PC 17599  71.28      C85        C  \n",
            "2                      0  STON/O2. 3101282   7.93  MISSING        S  \n",
            "3                      0            113803  53.10     C123        S  \n",
            "4                      0            373450   8.05  MISSING        S  \n",
            "..                   ...               ...    ...      ...      ...  \n",
            "885                    5            382652  29.13  MISSING        Q  \n",
            "886                    0            211536  13.00  MISSING        S  \n",
            "887                    0            112053  30.00      B42        S  \n",
            "889                    0            111369  30.00     C148        C  \n",
            "890                    0            370376   7.75  MISSING        Q  \n",
            "\n",
            "[876 rows x 11 columns]\n"
          ]
        }
      ]
    },
    {
      "cell_type": "markdown",
      "source": [
        "\n",
        "- Fill the null values in numeric columns with a placeholder value of -1\n",
        "\n"
      ],
      "metadata": {
        "id": "14JJ4da790lP"
      }
    },
    {
      "cell_type": "code",
      "source": [
        "# save list of numeric column names (Hint: select_dtypes)\n",
        "numeric_columns = df_titanic.select_dtypes(include=['int', 'float']).columns.tolist()\n",
        "print(numeric_columns)"
      ],
      "metadata": {
        "id": "ke8Ykwqk-FpT",
        "colab": {
          "base_uri": "https://localhost:8080/"
        },
        "outputId": "3dd59b1f-c0f5-4b4e-d783-2300d7dbaee3"
      },
      "execution_count": 152,
      "outputs": [
        {
          "output_type": "stream",
          "name": "stdout",
          "text": [
            "['PassengerId', 'Survived', 'Pclass', 'Age', 'Siblings or Spouses', 'Parents or Children', 'Fare']\n"
          ]
        }
      ]
    },
    {
      "cell_type": "code",
      "source": [
        "# use the list of num columns to fill null values with -1\n",
        "df_titanic[numeric_columns] = df_titanic[numeric_columns].fillna(-1)\n",
        "print(df_titanic)"
      ],
      "metadata": {
        "id": "eEML0ii--JqR",
        "colab": {
          "base_uri": "https://localhost:8080/"
        },
        "outputId": "ebcdf0c5-3bb7-4df7-9eb1-f961b9ec3d9c"
      },
      "execution_count": 153,
      "outputs": [
        {
          "output_type": "stream",
          "name": "stdout",
          "text": [
            "     PassengerId  Survived  Pclass     Sex   Age  Siblings or Spouses  \\\n",
            "0              1         0       3    male  22.0                    1   \n",
            "1              2         1       1  female  38.0                    1   \n",
            "2              3         1       3  female  26.0                    0   \n",
            "3              4         1       1  female  35.0                    1   \n",
            "4              5         0       3    male  35.0                    0   \n",
            "..           ...       ...     ...     ...   ...                  ...   \n",
            "885          886         0       3  female  39.0                    0   \n",
            "886          887         0       2    male  27.0                    0   \n",
            "887          888         1       1  female  19.0                    0   \n",
            "889          890         1       1    male  26.0                    0   \n",
            "890          891         0       3    male  32.0                    0   \n",
            "\n",
            "     Parents or Children            Ticket   Fare    Cabin Embarked  \n",
            "0                      0         A/5 21171   7.25  MISSING        S  \n",
            "1                      0          PC 17599  71.28      C85        C  \n",
            "2                      0  STON/O2. 3101282   7.93  MISSING        S  \n",
            "3                      0            113803  53.10     C123        S  \n",
            "4                      0            373450   8.05  MISSING        S  \n",
            "..                   ...               ...    ...      ...      ...  \n",
            "885                    5            382652  29.13  MISSING        Q  \n",
            "886                    0            211536  13.00  MISSING        S  \n",
            "887                    0            112053  30.00      B42        S  \n",
            "889                    0            111369  30.00     C148        C  \n",
            "890                    0            370376   7.75  MISSING        Q  \n",
            "\n",
            "[876 rows x 11 columns]\n"
          ]
        }
      ]
    },
    {
      "cell_type": "markdown",
      "source": [
        "- Use either missingno's matrix plot or Pandas to confirm that there are 0 null values remaining.\n"
      ],
      "metadata": {
        "id": "e9-VpWlI-P9U"
      }
    },
    {
      "cell_type": "code",
      "source": [
        "# Confirm no more nulls using Pandas\n",
        "#step1: Check for null values in data frame\n",
        "null_values_check=df_titanic.isnull().sum()\n",
        "print(null_values_check)\n",
        "\n",
        "#Different approach\n",
        "null_values_count=null_values_check.any()\n",
        "if null_values_count:\n",
        "  print('\\n')\n",
        "  print(\"There is null values exists\")\n",
        "else:\n",
        "  print('\\n')\n",
        "  print(\"There is no null values exists\")"
      ],
      "metadata": {
        "id": "XHFu09ww-TUB",
        "colab": {
          "base_uri": "https://localhost:8080/"
        },
        "outputId": "d1dd8f9d-e9e2-4ed6-c986-f605a0e8f3df"
      },
      "execution_count": 154,
      "outputs": [
        {
          "output_type": "stream",
          "name": "stdout",
          "text": [
            "PassengerId            0\n",
            "Survived               0\n",
            "Pclass                 0\n",
            "Sex                    0\n",
            "Age                    0\n",
            "Siblings or Spouses    0\n",
            "Parents or Children    0\n",
            "Ticket                 0\n",
            "Fare                   0\n",
            "Cabin                  0\n",
            "Embarked               0\n",
            "dtype: int64\n",
            "\n",
            "\n",
            "There is no null values exists\n"
          ]
        }
      ]
    },
    {
      "cell_type": "code",
      "source": [
        "# Confirm no more nulls using using missingno\n",
        "msno.matrix(df_titanic)"
      ],
      "metadata": {
        "id": "p99EtFE1-Qi5",
        "colab": {
          "base_uri": "https://localhost:8080/",
          "height": 714
        },
        "outputId": "53f7415f-0d50-4df1-97a7-c6b605a4fc5d"
      },
      "execution_count": 155,
      "outputs": [
        {
          "output_type": "execute_result",
          "data": {
            "text/plain": [
              "<Axes: >"
            ]
          },
          "metadata": {},
          "execution_count": 155
        },
        {
          "output_type": "display_data",
          "data": {
            "text/plain": [
              "<Figure size 2500x1000 with 2 Axes>"
            ],
            "image/png": "[encoded data removed]"
          },
          "metadata": {}
        }
      ]
    },
    {
      "cell_type": "markdown",
      "source": [
        "## H) Consistent Values"
      ],
      "metadata": {
        "id": "P4Q29-E1sinl"
      }
    },
    {
      "cell_type": "markdown",
      "source": [
        "- Check each string column's value counts for inconsistent values.\n",
        "  - E.g. \"Cat\" vs \"cat\", \"Y\" vs. \"Yes\"\n"
      ],
      "metadata": {
        "id": "nGwnkZUp_EkH"
      }
    },
    {
      "cell_type": "markdown",
      "source": [
        "\n",
        "- Fix/replace the inconsistent values with the values you believe are correct.\n",
        "\n",
        "\n",
        "- Display the value_counts again to confirm the values are now consistent.\n",
        "  "
      ],
      "metadata": {
        "id": "u6BgPQTMCRJU"
      }
    },
    {
      "cell_type": "code",
      "source": [
        "# Save a list of object columns (Hint: select_dtypes)\n",
        "list_object_columns=df_titanic.select_dtypes(include=['object']).columns.tolist()\n",
        "print(list_object_columns)"
      ],
      "metadata": {
        "id": "ldZvXpS4sk_R",
        "colab": {
          "base_uri": "https://localhost:8080/"
        },
        "outputId": "b2516123-e2a8-4e77-8df7-d810fca0ad72"
      },
      "execution_count": 156,
      "outputs": [
        {
          "output_type": "stream",
          "name": "stdout",
          "text": [
            "['Sex', 'Ticket', 'Cabin', 'Embarked']\n"
          ]
        }
      ]
    },
    {
      "cell_type": "code",
      "source": [
        "# Check the nunique for just the object cols\n",
        "object_col_unique_counts = df_titanic[list_object_columns].nunique()\n",
        "print(object_col_unique_counts)"
      ],
      "metadata": {
        "id": "LTsmcfwPBBkE",
        "colab": {
          "base_uri": "https://localhost:8080/"
        },
        "outputId": "a02acd6f-a6f4-49ce-a40f-0758674f518f"
      },
      "execution_count": 157,
      "outputs": [
        {
          "output_type": "stream",
          "name": "stdout",
          "text": [
            "Sex           3\n",
            "Ticket      671\n",
            "Cabin       147\n",
            "Embarked      5\n",
            "dtype: int64\n"
          ]
        }
      ]
    },
    {
      "cell_type": "markdown",
      "source": [
        "- Note that out of the 4 categorical columns remaining:\n",
        "  - 2 columns have a small number of categories  (Sex and Embarked)\n",
        "  - 2 columns have over 100 categories (Ticket and Cabin).\n",
        "\n",
        "- We do not want to keep categorical features with so many categories.\n",
        "\n",
        "\n",
        "- **Drop the Ticket column and Cabin column.**"
      ],
      "metadata": {
        "id": "7uYkMA3wBR_c"
      }
    },
    {
      "cell_type": "code",
      "source": [
        "# Drop the columns listed above\n",
        "df_titanic = df_titanic.drop(['Ticket', 'Cabin'], axis=1)"
      ],
      "metadata": {
        "id": "rdJrpA81CA9x"
      },
      "execution_count": 158,
      "outputs": []
    },
    {
      "cell_type": "markdown",
      "source": [
        "### For Each Remaining Categorical Column:\n",
        "\n",
        "- Display the value counts for the column\n",
        "- Take a note of any values that are not consistent.\n",
        "- Remove/fix the inconsistent values\n",
        "- Confirm by checking the value counts again"
      ],
      "metadata": {
        "id": "XYPnIB_bCKPH"
      }
    },
    {
      "cell_type": "code",
      "source": [
        "# Remake the list of string columns (after dropping previous cols)\n",
        "list_of_string_columns = df_titanic.select_dtypes(include=['object']).columns.tolist()\n",
        "# Print the list of object columns\n",
        "print(list_of_string_columns)\n",
        "# loop through the list of string columns\n",
        "for col in list_of_string_columns:\n",
        "  # print the value counts for the column\n",
        "  value_counts_column = df_titanic[col].value_counts()\n",
        "  print(value_counts_column)\n",
        "  # Print an empty line for readability\n",
        "  print()"
      ],
      "metadata": {
        "id": "7zcVvQC0_Mp_",
        "colab": {
          "base_uri": "https://localhost:8080/"
        },
        "outputId": "43469705-5de0-4c3b-99ab-c38d257ffb5a"
      },
      "execution_count": 159,
      "outputs": [
        {
          "output_type": "stream",
          "name": "stdout",
          "text": [
            "['Sex', 'Embarked']\n",
            "male      564\n",
            "female    308\n",
            "F           4\n",
            "Name: Sex, dtype: int64\n",
            "\n",
            "S             634\n",
            "C             164\n",
            "Q              74\n",
            "MISSING         2\n",
            "Queenstown      2\n",
            "Name: Embarked, dtype: int64\n",
            "\n"
          ]
        }
      ]
    },
    {
      "cell_type": "markdown",
      "source": [
        "**Q: H1) Which columns have inconsistent values that need to be addressed?**\n",
        "- Your Answer:\n",
        "  - Sex\n",
        "  - Embarked"
      ],
      "metadata": {
        "id": "8nihiReBDuF8"
      }
    },
    {
      "cell_type": "markdown",
      "source": [
        "### Checking & Fixing Consistency: Column 1"
      ],
      "metadata": {
        "id": "W4Ql95JPCwTc"
      }
    },
    {
      "cell_type": "code",
      "source": [
        "# Check for inconsistencies by inspecting the value_counts for Embarked\n",
        "embarked_value_counts=df_titanic['Embarked'].value_counts()\n",
        "print(embarked_value_counts)"
      ],
      "metadata": {
        "id": "61tBYCkPwb5_",
        "colab": {
          "base_uri": "https://localhost:8080/"
        },
        "outputId": "de234ee1-021c-4efc-f55f-e7f33b3c8803"
      },
      "execution_count": 160,
      "outputs": [
        {
          "output_type": "stream",
          "name": "stdout",
          "text": [
            "S             634\n",
            "C             164\n",
            "Q              74\n",
            "MISSING         2\n",
            "Queenstown      2\n",
            "Name: Embarked, dtype: int64\n"
          ]
        }
      ]
    },
    {
      "cell_type": "code",
      "source": [
        "# Replace \"Queenstown\" with \"Q\"\n",
        "df_titanic['Embarked'] = df_titanic['Embarked'].replace('Queenstown','Q')\n",
        "# Check the value counts again to confirm\n",
        "embarked_value_counts_again=df_titanic['Embarked'].value_counts()\n",
        "print(embarked_value_counts_again)"
      ],
      "metadata": {
        "id": "BJehF4pK5HOi",
        "colab": {
          "base_uri": "https://localhost:8080/"
        },
        "outputId": "0af97b08-7dc7-49dc-b5de-9e85177e4253"
      },
      "execution_count": 161,
      "outputs": [
        {
          "output_type": "stream",
          "name": "stdout",
          "text": [
            "S          634\n",
            "C          164\n",
            "Q           76\n",
            "MISSING      2\n",
            "Name: Embarked, dtype: int64\n"
          ]
        }
      ]
    },
    {
      "cell_type": "markdown",
      "source": [
        "### Checking and Fixing Consistency: Column 2"
      ],
      "metadata": {
        "id": "Pb__EAJ3C3ir"
      }
    },
    {
      "cell_type": "code",
      "source": [
        "# # Check for inconsistencies by inspecting the values_counts for Sex\n",
        "sex_value_counts = df_titanic['Sex'].value_counts()\n",
        "print(sex_value_counts)"
      ],
      "metadata": {
        "id": "lSqM-GyPs4BR",
        "colab": {
          "base_uri": "https://localhost:8080/"
        },
        "outputId": "e9b96b02-8b93-4246-95b8-1c8c238c820f"
      },
      "execution_count": 162,
      "outputs": [
        {
          "output_type": "stream",
          "name": "stdout",
          "text": [
            "male      564\n",
            "female    308\n",
            "F           4\n",
            "Name: Sex, dtype: int64\n"
          ]
        }
      ]
    },
    {
      "cell_type": "code",
      "source": [
        "# Replace \"F\" with \"female\"\n",
        "df_titanic['Sex'] = df_titanic['Sex'].replace('F','female')\n",
        "\n",
        "# Check the value counts again to confirm\n",
        "sex_value_counts_after = df_titanic['Sex'].value_counts()\n",
        "print(sex_value_counts_after)"
      ],
      "metadata": {
        "id": "CyH6LiU9wYOR",
        "colab": {
          "base_uri": "https://localhost:8080/"
        },
        "outputId": "43b146bf-c5fa-4439-f713-fcb71e86e61a"
      },
      "execution_count": 163,
      "outputs": [
        {
          "output_type": "stream",
          "name": "stdout",
          "text": [
            "male      564\n",
            "female    312\n",
            "Name: Sex, dtype: int64\n"
          ]
        }
      ]
    },
    {
      "cell_type": "markdown",
      "source": [
        "## I) Save the Final DataFrame to Csv"
      ],
      "metadata": {
        "id": "pp4pJayZAJjv"
      }
    },
    {
      "cell_type": "markdown",
      "source": [
        "- Save the cleaned DataFrame to your Google Drive in the CodingDojo>  01-Fundamentals> Week02>Data folder.\n",
        "  - Name the file \"data-cleaning-core.csv\"\n"
      ],
      "metadata": {
        "id": "yYQEFYlcAL2K"
      }
    },
    {
      "cell_type": "code",
      "source": [
        "# Save the folder + filename as a variable called fpath\n",
        "fname=\"/content/drive/MyDrive/CodingDojo/01-Fundamentals/Week02/Data/data-cleaning-core.csv\"\n",
        "\n",
        "# Use to_csv to save the dataframe using the filename\n",
        "df_titanic.to_csv(fname)\n"
      ],
      "metadata": {
        "id": "DmeXHDo6AQLp"
      },
      "execution_count": 164,
      "outputs": []
    },
    {
      "cell_type": "markdown",
      "source": [
        "- Confirm the data was saved correctly."
      ],
      "metadata": {
        "id": "FScEO0F0Amwh"
      }
    },
    {
      "cell_type": "code",
      "source": [
        "# Read in your new .csv file with Pandas.\n",
        "df_titanic_new=pd.read_csv(fname)\n",
        "# Display the info summary.\n",
        "df_titanic_new.info()\n",
        "# Display the first 5 rows.\n",
        "df_titanic_new.head()"
      ],
      "metadata": {
        "id": "YmxIv8rBApEW",
        "colab": {
          "base_uri": "https://localhost:8080/",
          "height": 501
        },
        "outputId": "3ff431d8-94e0-4163-d39a-68353feb3ea1"
      },
      "execution_count": 165,
      "outputs": [
        {
          "output_type": "stream",
          "name": "stdout",
          "text": [
            "<class 'pandas.core.frame.DataFrame'>\n",
            "RangeIndex: 876 entries, 0 to 875\n",
            "Data columns (total 10 columns):\n",
            " #   Column               Non-Null Count  Dtype  \n",
            "---  ------               --------------  -----  \n",
            " 0   Unnamed: 0           876 non-null    int64  \n",
            " 1   PassengerId          876 non-null    int64  \n",
            " 2   Survived             876 non-null    int64  \n",
            " 3   Pclass               876 non-null    int64  \n",
            " 4   Sex                  876 non-null    object \n",
            " 5   Age                  876 non-null    float64\n",
            " 6   Siblings or Spouses  876 non-null    int64  \n",
            " 7   Parents or Children  876 non-null    int64  \n",
            " 8   Fare                 876 non-null    float64\n",
            " 9   Embarked             876 non-null    object \n",
            "dtypes: float64(2), int64(6), object(2)\n",
            "memory usage: 68.6+ KB\n"
          ]
        },
        {
          "output_type": "execute_result",
          "data": {
            "text/plain": [
              "   Unnamed: 0  PassengerId  Survived  Pclass     Sex   Age  \\\n",
              "0           0            1         0       3    male  22.0   \n",
              "1           1            2         1       1  female  38.0   \n",
              "2           2            3         1       3  female  26.0   \n",
              "3           3            4         1       1  female  35.0   \n",
              "4           4            5         0       3    male  35.0   \n",
              "\n",
              "   Siblings or Spouses  Parents or Children   Fare Embarked  \n",
              "0                    1                    0   7.25        S  \n",
              "1                    1                    0  71.28        C  \n",
              "2                    0                    0   7.93        S  \n",
              "3                    1                    0  53.10        S  \n",
              "4                    0                    0   8.05        S  "
            ],
            "text/html": [
              "\n",
              "  <div id=\"df-046b35ae-5da5-4bfc-bc60-ea7153923898\">\n",
              "    <div class=\"colab-df-container\">\n",
              "      <div>\n",
              "<style scoped>\n",
              "    .dataframe tbody tr th:only-of-type {\n",
              "        vertical-align: middle;\n",
              "    }\n",
              "\n",
              "    .dataframe tbody tr th {\n",
              "        vertical-align: top;\n",
              "    }\n",
              "\n",
              "    .dataframe thead th {\n",
              "        text-align: right;\n",
              "    }\n",
              "</style>\n",
              "<table border=\"1\" class=\"dataframe\">\n",
              "  <thead>\n",
              "    <tr style=\"text-align: right;\">\n",
              "      <th></th>\n",
              "      <th>Unnamed: 0</th>\n",
              "      <th>PassengerId</th>\n",
              "      <th>Survived</th>\n",
              "      <th>Pclass</th>\n",
              "      <th>Sex</th>\n",
              "      <th>Age</th>\n",
              "      <th>Siblings or Spouses</th>\n",
              "      <th>Parents or Children</th>\n",
              "      <th>Fare</th>\n",
              "      <th>Embarked</th>\n",
              "    </tr>\n",
              "  </thead>\n",
              "  <tbody>\n",
              "    <tr>\n",
              "      <th>0</th>\n",
              "      <td>0</td>\n",
              "      <td>1</td>\n",
              "      <td>0</td>\n",
              "      <td>3</td>\n",
              "      <td>male</td>\n",
              "      <td>22.0</td>\n",
              "      <td>1</td>\n",
              "      <td>0</td>\n",
              "      <td>7.25</td>\n",
              "      <td>S</td>\n",
              "    </tr>\n",
              "    <tr>\n",
              "      <th>1</th>\n",
              "      <td>1</td>\n",
              "      <td>2</td>\n",
              "      <td>1</td>\n",
              "      <td>1</td>\n",
              "      <td>female</td>\n",
              "      <td>38.0</td>\n",
              "      <td>1</td>\n",
              "      <td>0</td>\n",
              "      <td>71.28</td>\n",
              "      <td>C</td>\n",
              "    </tr>\n",
              "    <tr>\n",
              "      <th>2</th>\n",
              "      <td>2</td>\n",
              "      <td>3</td>\n",
              "      <td>1</td>\n",
              "      <td>3</td>\n",
              "      <td>female</td>\n",
              "      <td>26.0</td>\n",
              "      <td>0</td>\n",
              "      <td>0</td>\n",
              "      <td>7.93</td>\n",
              "      <td>S</td>\n",
              "    </tr>\n",
              "    <tr>\n",
              "      <th>3</th>\n",
              "      <td>3</td>\n",
              "      <td>4</td>\n",
              "      <td>1</td>\n",
              "      <td>1</td>\n",
              "      <td>female</td>\n",
              "      <td>35.0</td>\n",
              "      <td>1</td>\n",
              "      <td>0</td>\n",
              "      <td>53.10</td>\n",
              "      <td>S</td>\n",
              "    </tr>\n",
              "    <tr>\n",
              "      <th>4</th>\n",
              "      <td>4</td>\n",
              "      <td>5</td>\n",
              "      <td>0</td>\n",
              "      <td>3</td>\n",
              "      <td>male</td>\n",
              "      <td>35.0</td>\n",
              "      <td>0</td>\n",
              "      <td>0</td>\n",
              "      <td>8.05</td>\n",
              "      <td>S</td>\n",
              "    </tr>\n",
              "  </tbody>\n",
              "</table>\n",
              "</div>\n",
              "      <button class=\"colab-df-convert\" onclick=\"convertToInteractive('df-046b35ae-5da5-4bfc-bc60-ea7153923898')\"\n",
              "              title=\"Convert this dataframe to an interactive table.\"\n",
              "              style=\"display:none;\">\n",
              "        \n",
              "  <svg xmlns=\"http://www.w3.org/2000/svg\" height=\"24px\"viewBox=\"0 0 24 24\"\n",
              "       width=\"24px\">\n",
              "    <path d=\"M0 0h24v24H0V0z\" fill=\"none\"/>\n",
              "    <path d=\"M18.56 5.44l.94 2.06.94-2.06 2.06-.94-2.06-.94-.94-2.06-.94 2.06-2.06.94zm-11 1L8.5 8.5l.94-2.06 2.06-.94-2.06-.94L8.5 2.5l-.94 2.06-2.06.94zm10 10l.94 2.06.94-2.06 2.06-.94-2.06-.94-.94-2.06-.94 2.06-2.06.94z\"/><path d=\"M17.41 7.96l-1.37-1.37c-.4-.4-.92-.59-1.43-.59-.52 0-1.04.2-1.43.59L10.3 9.45l-7.72 7.72c-.78.78-.78 2.05 0 2.83L4 21.41c.39.39.9.59 1.41.59.51 0 1.02-.2 1.41-.59l7.78-7.78 2.81-2.81c.8-.78.8-2.07 0-2.86zM5.41 20L4 18.59l7.72-7.72 1.47 1.35L5.41 20z\"/>\n",
              "  </svg>\n",
              "      </button>\n",
              "      \n",
              "  <style>\n",
              "    .colab-df-container {\n",
              "      display:flex;\n",
              "      flex-wrap:wrap;\n",
              "      gap: 12px;\n",
              "    }\n",
              "\n",
              "    .colab-df-convert {\n",
              "      background-color: #E8F0FE;\n",
              "      border: none;\n",
              "      border-radius: 50%;\n",
              "      cursor: pointer;\n",
              "      display: none;\n",
              "      fill: #1967D2;\n",
              "      height: 32px;\n",
              "      padding: 0 0 0 0;\n",
              "      width: 32px;\n",
              "    }\n",
              "\n",
              "    .colab-df-convert:hover {\n",
              "      background-color: #E2EBFA;\n",
              "      box-shadow: 0px 1px 2px rgba(60, 64, 67, 0.3), 0px 1px 3px 1px rgba(60, 64, 67, 0.15);\n",
              "      fill: #174EA6;\n",
              "    }\n",
              "\n",
              "    [theme=dark] .colab-df-convert {\n",
              "      background-color: #3B4455;\n",
              "      fill: #D2E3FC;\n",
              "    }\n",
              "\n",
              "    [theme=dark] .colab-df-convert:hover {\n",
              "      background-color: #434B5C;\n",
              "      box-shadow: 0px 1px 3px 1px rgba(0, 0, 0, 0.15);\n",
              "      filter: drop-shadow(0px 1px 2px rgba(0, 0, 0, 0.3));\n",
              "      fill: #FFFFFF;\n",
              "    }\n",
              "  </style>\n",
              "\n",
              "      <script>\n",
              "        const buttonEl =\n",
              "          document.querySelector('#df-046b35ae-5da5-4bfc-bc60-ea7153923898 button.colab-df-convert');\n",
              "        buttonEl.style.display =\n",
              "          google.colab.kernel.accessAllowed ? 'block' : 'none';\n",
              "\n",
              "        async function convertToInteractive(key) {\n",
              "          const element = document.querySelector('#df-046b35ae-5da5-4bfc-bc60-ea7153923898');\n",
              "          const dataTable =\n",
              "            await google.colab.kernel.invokeFunction('convertToInteractive',\n",
              "                                                     [key], {});\n",
              "          if (!dataTable) return;\n",
              "\n",
              "          const docLinkHtml = 'Like what you see? Visit the ' +\n",
              "            '<a target=\"_blank\" href=https://colab.research.google.com/notebooks/data_table.ipynb>data table notebook</a>'\n",
              "            + ' to learn more about interactive tables.';\n",
              "          element.innerHTML = '';\n",
              "          dataTable['output_type'] = 'display_data';\n",
              "          await google.colab.output.renderOutput(dataTable, element);\n",
              "          const docLink = document.createElement('div');\n",
              "          docLink.innerHTML = docLinkHtml;\n",
              "          element.appendChild(docLink);\n",
              "        }\n",
              "      </script>\n",
              "    </div>\n",
              "  </div>\n",
              "  "
            ]
          },
          "metadata": {},
          "execution_count": 165
        }
      ]
    },
    {
      "cell_type": "markdown",
      "source": [
        "### Save and Submit your work\n",
        "\n",
        "When the assignment is complete, download your notebook as a .ipynb file and submit it on the learning platform.  "
      ],
      "metadata": {
        "id": "KTxksnlTBQgE"
      }
    }
  ]
}